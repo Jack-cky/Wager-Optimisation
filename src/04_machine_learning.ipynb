{
 "cells": [
  {
   "cell_type": "markdown",
   "id": "78cad619-e836-423f-9b7c-1218a74ce19a",
   "metadata": {},
   "source": [
    "## Machine Learning\n",
    "---"
   ]
  },
  {
   "cell_type": "code",
   "execution_count": 1,
   "id": "5c181b98-a383-4784-83c2-6787e0f3a758",
   "metadata": {},
   "outputs": [],
   "source": [
    "import os\n",
    "import warnings\n",
    "\n",
    "os.environ[\"TF_CPP_MIN_LOG_LEVEL\"] = \"2\"\n",
    "warnings.filterwarnings(\"ignore\")"
   ]
  },
  {
   "cell_type": "code",
   "execution_count": 2,
   "id": "da734294-b391-4c01-b7c8-d3fe776828c7",
   "metadata": {},
   "outputs": [],
   "source": [
    "import numpy as np\n",
    "import pandas as pd\n",
    "from scipy import stats\n",
    "from math import comb\n",
    "\n",
    "np.random.seed(1834633)\n",
    "pd.set_option(\"display.max_columns\", None)"
   ]
  },
  {
   "cell_type": "code",
   "execution_count": 3,
   "id": "4ed51bc1-22fe-481a-abc9-14fb52afb5f3",
   "metadata": {},
   "outputs": [],
   "source": [
    "from sklearn.model_selection import train_test_split\n",
    "from sklearn.model_selection import StratifiedKFold\n",
    "from sklearn.preprocessing import MinMaxScaler"
   ]
  },
  {
   "cell_type": "code",
   "execution_count": 4,
   "id": "e5eb3385-05b2-4248-9368-91f9fe5c843b",
   "metadata": {},
   "outputs": [],
   "source": [
    "from sklearn.metrics import roc_auc_score\n",
    "from sklearn.metrics import accuracy_score"
   ]
  },
  {
   "cell_type": "code",
   "execution_count": 5,
   "id": "6767fb21-ec60-4902-a113-3a55f5e17694",
   "metadata": {},
   "outputs": [],
   "source": [
    "from sklearn.neighbors import KNeighborsClassifier\n",
    "\n",
    "from sklearn.linear_model import LogisticRegression\n",
    "from sklearn.svm import SVC\n",
    "\n",
    "from sklearn.ensemble import RandomForestClassifier\n",
    "from xgboost import XGBClassifier\n",
    "\n",
    "from tensorflow.keras import Sequential\n",
    "from tensorflow.keras.layers import Input, Dense\n",
    "from tensorflow.keras.optimizers import Adam\n",
    "from tensorflow.keras.losses import BinaryCrossentropy\n",
    "from tensorflow.keras.callbacks import EarlyStopping\n",
    "from scikeras.wrappers import KerasClassifier"
   ]
  },
  {
   "cell_type": "code",
   "execution_count": 6,
   "id": "a702a11b-b059-4619-85b7-c4a3e7b165a4",
   "metadata": {},
   "outputs": [],
   "source": [
    "from sklearn.model_selection import RandomizedSearchCV\n",
    "\n",
    "from skopt import BayesSearchCV\n",
    "from skopt.space import Real, Categorical, Integer\n",
    "\n",
    "import optuna\n",
    "from optuna.samplers import TPESampler\n",
    "\n",
    "from hyperopt import tpe, hp, fmin, STATUS_OK, Trials, space_eval\n",
    "\n",
    "optuna.logging.set_verbosity(optuna.logging.WARNING)"
   ]
  },
  {
   "cell_type": "markdown",
   "id": "437a731f-1319-4841-80da-beeb21818768",
   "metadata": {},
   "source": [
    "### Data Import\n",
    "---"
   ]
  },
  {
   "cell_type": "code",
   "execution_count": 7,
   "id": "9aaef175-c1de-4c7a-a44d-ba5a67caef7b",
   "metadata": {},
   "outputs": [],
   "source": [
    "j1 = pd.read_parquet(\"../data/j1_league_featured.parquet\") \\\n",
    "    .query(\"date.dt.year >= 2022\").copy()"
   ]
  },
  {
   "cell_type": "markdown",
   "id": "a9c68d63-79e4-4c4c-940d-edf5c0f78760",
   "metadata": {},
   "source": [
    "### Data Splitting\n",
    "---"
   ]
  },
  {
   "cell_type": "code",
   "execution_count": 8,
   "id": "84d003c1-1102-4594-9d8b-71a04282a4c4",
   "metadata": {},
   "outputs": [],
   "source": [
    "dc_y = [\"results\"]\n",
    "dc_X = [col for col in j1.columns if col not in [\"date\", \"home\", \"away\", \"results\", \"net_goals\"]]\n",
    "\n",
    "y_test = j1.query(\"date >= '20220901'\")[dc_y].values.ravel()\n",
    "X_test = j1.query(\"date >= '20220901'\")[dc_X].values\n",
    "\n",
    "y_train_dev = j1.query(\"date < '20220901'\")[dc_y].values.ravel()\n",
    "X_train_dev = j1.query(\"date < '20220901'\")[dc_X].values\n",
    "\n",
    "X_train, X_dev, y_train, y_dev = train_test_split(\n",
    "    X_train_dev, y_train_dev, test_size=0.2,\n",
    "    stratify=y_train_dev , random_state=24997828\n",
    ")"
   ]
  },
  {
   "cell_type": "markdown",
   "id": "38ddd7e8-9240-4ae1-8296-b9b46359b6e4",
   "metadata": {},
   "source": [
    "### Feature Scaling\n",
    "---"
   ]
  },
  {
   "cell_type": "code",
   "execution_count": 9,
   "id": "6ae0898d-1f90-499b-a7e5-088794a50e6d",
   "metadata": {},
   "outputs": [],
   "source": [
    "scaler = MinMaxScaler()\n",
    "\n",
    "X_train_dev = scaler.fit_transform(X_train_dev)\n",
    "X_test = scaler.transform(X_test)\n",
    "\n",
    "X_train = scaler.fit_transform(X_train)\n",
    "X_dev = scaler.transform(X_dev)"
   ]
  },
  {
   "cell_type": "markdown",
   "id": "3d5d4289-be8c-4fbe-b309-02f870143049",
   "metadata": {},
   "source": [
    "### Model Training\n",
    "---"
   ]
  },
  {
   "cell_type": "code",
   "execution_count": 10,
   "id": "de7b7a86-e51d-4044-ad03-018d73a6dddb",
   "metadata": {},
   "outputs": [],
   "source": [
    "data = {\n",
    "    \"Dev\": {\n",
    "        \"Train\": (X_train, y_train),\n",
    "        \"Dev\": (X_dev, y_dev),\n",
    "    },\n",
    "    \"Prod\": {\n",
    "        \"Train-Dev\": (X_train_dev, y_train_dev),\n",
    "        \"Test\": (X_test, y_test)\n",
    "    },\n",
    "}\n",
    "\n",
    "metrics_log = {}"
   ]
  },
  {
   "cell_type": "markdown",
   "id": "e296b6e4-1e0d-4d71-a3c4-a31e3a2d72dc",
   "metadata": {},
   "source": [
    "#### Evaluation Functions"
   ]
  },
  {
   "cell_type": "code",
   "execution_count": 11,
   "id": "6167eb46-7cc5-44ef-8461-1d4d87cb7fcf",
   "metadata": {},
   "outputs": [],
   "source": [
    "def evaluate_score(model, X, y, k_fold=5):\n",
    "    scores = {}\n",
    "    y_hat = model.predict(X)\n",
    "    \n",
    "    scores[\"accuracy\"] = accuracy_score(y, y_hat)\n",
    "    scores[\"auc\"] = roc_auc_score(y, y_hat)\n",
    "    \n",
    "    return scores\n",
    "\n",
    "def state_evaluation(portion, scores):\n",
    "    label = f\"{portion} set\"\n",
    "    accuracy = f\"Accuracy: {scores['accuracy']:.4f}\"\n",
    "    auc = f\"AUC: {scores['auc']:.4f}\"\n",
    "    \n",
    "    return f\"{label} \\t| {accuracy} \\t| {auc}\"\n",
    "\n",
    "def evaluate_model(model, opt_params=None):\n",
    "    msg = []\n",
    "    \n",
    "    for tier in [\"Dev\", \"Prod\"]:\n",
    "        portions = list(data[tier].keys())\n",
    "        clf.fit(*data[tier][portions[0]])\n",
    "        for portion in portions:\n",
    "            scores = evaluate_score(clf, *data[tier][portion])\n",
    "            msg.append(state_evaluation(portion, scores))\n",
    "            if portion == \"Test\":\n",
    "                metrics_log[model] = scores\n",
    "                metrics_log[model][\"params\"] = opt_params\n",
    "    \n",
    "    print(f\"Model: {model}\" + [f\" {opt_params}\", \"\"][opt_params is None])\n",
    "    print(\"=\" * 125)\n",
    "    print(f\"{msg[0]} \\t\\t┆\\t {msg[2]}\")\n",
    "    print(f\"{msg[1]} \\t\\t┆\\t {msg[3]}\")\n",
    "    print(\"=\" * 125)\n",
    "    \n",
    "    return None"
   ]
  },
  {
   "cell_type": "markdown",
   "id": "b9a5c2d2-f9d8-47cf-a2d4-efd3eafa8b26",
   "metadata": {
    "tags": []
   },
   "source": [
    "#### Baseline Models"
   ]
  },
  {
   "cell_type": "code",
   "execution_count": 12,
   "id": "a0653f98-1161-4276-bd42-ea73e3a363b1",
   "metadata": {},
   "outputs": [],
   "source": [
    "def DNN(n_layers=1, neurons_min=8, activation=\"relu\", patience=3, batch_size=32, epochs=20):\n",
    "    \n",
    "    model = Sequential([\n",
    "        Input(shape=X_train.shape[1]),\n",
    "        Dense(units=comb(neurons_min, 1), activation=activation),\n",
    "    ])\n",
    "    for layer in range(1, n_layers+1):\n",
    "        model.add(Dense(units=comb(neurons_min, layer+1), activation=activation))\n",
    "    model.add(Dense(units=1, activation=\"sigmoid\"))\n",
    "    \n",
    "    model.compile(optimizer=Adam(learning_rate=0.001), loss=BinaryCrossentropy())\n",
    "    \n",
    "    early_stopping = EarlyStopping(monitor=\"loss\", patience=patience)\n",
    "    history = model.fit(\n",
    "        X_train, y_train,\n",
    "        batch_size=batch_size,\n",
    "        epochs=epochs,\n",
    "        callbacks = [early_stopping],\n",
    "        verbose=0\n",
    "    )\n",
    "    \n",
    "    return model"
   ]
  },
  {
   "cell_type": "markdown",
   "id": "fc0ffe53-be5b-4208-a827-f4b8a44b0c46",
   "metadata": {},
   "source": [
    "##### 01 | k-Nearest Neighbors"
   ]
  },
  {
   "cell_type": "code",
   "execution_count": 13,
   "id": "d8b643ee-0b0a-4b6b-9ca5-f4445021b39f",
   "metadata": {},
   "outputs": [
    {
     "name": "stdout",
     "output_type": "stream",
     "text": [
      "Model: k-Nearest Neighbors\n",
      "=============================================================================================================================\n",
      "Train set \t| Accuracy: 0.6927 \t| AUC: 0.6866 \t\t┆\t Train-Dev set \t| Accuracy: 0.6830 \t| AUC: 0.6790\n",
      "Dev set \t| Accuracy: 0.5333 \t| AUC: 0.5238 \t\t┆\t Test set \t| Accuracy: 0.5479 \t| AUC: 0.5522\n",
      "=============================================================================================================================\n",
      "CPU times: user 26.4 ms, sys: 3.06 ms, total: 29.5 ms\n",
      "Wall time: 32.6 ms\n"
     ]
    }
   ],
   "source": [
    "%%time\n",
    "np.random.seed(42)\n",
    "\n",
    "clf = KNeighborsClassifier()\n",
    "\n",
    "evaluate_model(\"k-Nearest Neighbors\")"
   ]
  },
  {
   "cell_type": "markdown",
   "id": "63da6e31-a79c-478d-95eb-8078cc626e24",
   "metadata": {},
   "source": [
    "##### 02 | Logistic Regression"
   ]
  },
  {
   "cell_type": "code",
   "execution_count": 14,
   "id": "88194ff1-6529-4d0c-a3ec-fd2030117964",
   "metadata": {},
   "outputs": [
    {
     "name": "stdout",
     "output_type": "stream",
     "text": [
      "Model: Logistic Regression\n",
      "=============================================================================================================================\n",
      "Train set \t| Accuracy: 0.5587 \t| AUC: 0.5443 \t\t┆\t Train-Dev set \t| Accuracy: 0.5982 \t| AUC: 0.5836\n",
      "Dev set \t| Accuracy: 0.5111 \t| AUC: 0.4940 \t\t┆\t Test set \t| Accuracy: 0.4658 \t| AUC: 0.5146\n",
      "=============================================================================================================================\n",
      "CPU times: user 12.2 ms, sys: 2.27 ms, total: 14.4 ms\n",
      "Wall time: 13.3 ms\n"
     ]
    }
   ],
   "source": [
    "%%time\n",
    "np.random.seed(42)\n",
    "\n",
    "clf = LogisticRegression()\n",
    "\n",
    "evaluate_model(\"Logistic Regression\")"
   ]
  },
  {
   "cell_type": "markdown",
   "id": "c1fdf7d4-a416-4ca8-bba5-ab79b8a5206f",
   "metadata": {},
   "source": [
    "##### 03 | Support Vector Machine"
   ]
  },
  {
   "cell_type": "code",
   "execution_count": 15,
   "id": "c4ad9e6b-3143-48c4-9a94-e4c265339ae5",
   "metadata": {},
   "outputs": [
    {
     "name": "stdout",
     "output_type": "stream",
     "text": [
      "Model: Support Vector Machine\n",
      "=============================================================================================================================\n",
      "Train set \t| Accuracy: 0.6760 \t| AUC: 0.6712 \t\t┆\t Train-Dev set \t| Accuracy: 0.6741 \t| AUC: 0.6648\n",
      "Dev set \t| Accuracy: 0.4889 \t| AUC: 0.4792 \t\t┆\t Test set \t| Accuracy: 0.5616 \t| AUC: 0.5810\n",
      "=============================================================================================================================\n",
      "CPU times: user 16.8 ms, sys: 1.24 ms, total: 18 ms\n",
      "Wall time: 16.6 ms\n"
     ]
    }
   ],
   "source": [
    "%%time\n",
    "np.random.seed(42)\n",
    "\n",
    "clf = SVC()\n",
    "\n",
    "evaluate_model(\"Support Vector Machine\")"
   ]
  },
  {
   "cell_type": "markdown",
   "id": "e1aa4cbe-ae90-45f6-962f-916423dabd52",
   "metadata": {},
   "source": [
    "##### 04 | Random Forest"
   ]
  },
  {
   "cell_type": "code",
   "execution_count": 16,
   "id": "9d73d367-f8e4-4529-a868-d7691ac42d0d",
   "metadata": {},
   "outputs": [
    {
     "name": "stdout",
     "output_type": "stream",
     "text": [
      "Model: Random Forest\n",
      "=============================================================================================================================\n",
      "Train set \t| Accuracy: 1.0000 \t| AUC: 1.0000 \t\t┆\t Train-Dev set \t| Accuracy: 1.0000 \t| AUC: 1.0000\n",
      "Dev set \t| Accuracy: 0.5778 \t| AUC: 0.5774 \t\t┆\t Test set \t| Accuracy: 0.6164 \t| AUC: 0.6033\n",
      "=============================================================================================================================\n",
      "CPU times: user 252 ms, sys: 5.07 ms, total: 257 ms\n",
      "Wall time: 258 ms\n"
     ]
    }
   ],
   "source": [
    "%%time\n",
    "np.random.seed(42)\n",
    "\n",
    "clf = RandomForestClassifier()\n",
    "\n",
    "evaluate_model(\"Random Forest\")"
   ]
  },
  {
   "cell_type": "markdown",
   "id": "a29b25e9-f065-4a2d-84ee-2f89a8e1191b",
   "metadata": {},
   "source": [
    "##### 05 | eXtreme Gradient Boosting"
   ]
  },
  {
   "cell_type": "code",
   "execution_count": 17,
   "id": "e2512796-9175-4a7b-b52b-237648596746",
   "metadata": {},
   "outputs": [
    {
     "name": "stdout",
     "output_type": "stream",
     "text": [
      "Model: eXtreme Gradient Boosting\n",
      "=============================================================================================================================\n",
      "Train set \t| Accuracy: 1.0000 \t| AUC: 1.0000 \t\t┆\t Train-Dev set \t| Accuracy: 1.0000 \t| AUC: 1.0000\n",
      "Dev set \t| Accuracy: 0.5111 \t| AUC: 0.5060 \t\t┆\t Test set \t| Accuracy: 0.5205 \t| AUC: 0.5031\n",
      "=============================================================================================================================\n",
      "CPU times: user 1.03 s, sys: 50.3 ms, total: 1.08 s\n",
      "Wall time: 102 ms\n"
     ]
    }
   ],
   "source": [
    "%%time\n",
    "np.random.seed(42)\n",
    "\n",
    "clf = XGBClassifier()\n",
    "\n",
    "evaluate_model(\"eXtreme Gradient Boosting\")"
   ]
  },
  {
   "cell_type": "markdown",
   "id": "885ebb11-6177-4d79-b835-a29e757e83e0",
   "metadata": {},
   "source": [
    "##### 06 | Deep Neural Network"
   ]
  },
  {
   "cell_type": "code",
   "execution_count": 18,
   "id": "e9336792-919a-45c1-b893-bb619a59109a",
   "metadata": {},
   "outputs": [
    {
     "name": "stdout",
     "output_type": "stream",
     "text": [
      "Model: Deep Neural Network\n",
      "=============================================================================================================================\n",
      "Train set \t| Accuracy: 0.5866 \t| AUC: 0.5720 \t\t┆\t Train-Dev set \t| Accuracy: 0.5446 \t| AUC: 0.5313\n",
      "Dev set \t| Accuracy: 0.5556 \t| AUC: 0.5387 \t\t┆\t Test set \t| Accuracy: 0.5342 \t| AUC: 0.5319\n",
      "=============================================================================================================================\n",
      "CPU times: user 4.6 s, sys: 288 ms, total: 4.88 s\n",
      "Wall time: 2.75 s\n"
     ]
    }
   ],
   "source": [
    "%%time\n",
    "np.random.seed(42)\n",
    "\n",
    "clf = KerasClassifier(model=DNN, verbose=0)\n",
    "\n",
    "evaluate_model(\"Deep Neural Network\")"
   ]
  },
  {
   "cell_type": "markdown",
   "id": "0813357e-1677-4da2-a621-f57b6df83a30",
   "metadata": {
    "tags": []
   },
   "source": [
    "#### RandomisedSearchCV Models"
   ]
  },
  {
   "cell_type": "markdown",
   "id": "fa8f1ade-c5c5-4e46-a0a4-5fbb988d9a16",
   "metadata": {},
   "source": [
    "##### 01 | k-Nearest Neighbors"
   ]
  },
  {
   "cell_type": "code",
   "execution_count": 19,
   "id": "80836334-6b1d-44fd-b16e-db54ff042269",
   "metadata": {},
   "outputs": [
    {
     "name": "stdout",
     "output_type": "stream",
     "text": [
      "Model: k-Nearest Neighbors (RandomisedSearchCV) {'n_neighbors': 20}\n",
      "=============================================================================================================================\n",
      "Train set \t| Accuracy: 0.6592 \t| AUC: 0.6502 \t\t┆\t Train-Dev set \t| Accuracy: 0.6473 \t| AUC: 0.6413\n",
      "Dev set \t| Accuracy: 0.5778 \t| AUC: 0.5655 \t\t┆\t Test set \t| Accuracy: 0.5479 \t| AUC: 0.5649\n",
      "=============================================================================================================================\n",
      "CPU times: user 250 ms, sys: 4.88 ms, total: 255 ms\n",
      "Wall time: 256 ms\n"
     ]
    }
   ],
   "source": [
    "%%time\n",
    "np.random.seed(42)\n",
    "\n",
    "grid_params = {\n",
    "    \"n_neighbors\": stats.randint(2, 50),\n",
    "}\n",
    "clf = RandomizedSearchCV(\n",
    "    KNeighborsClassifier(), grid_params,\n",
    "    n_iter=20, cv=5, scoring=\"accuracy\"\n",
    ")\n",
    "clf.fit(*data[\"Dev\"][\"Train\"])\n",
    "\n",
    "params = clf.best_params_\n",
    "clf = clf.best_estimator_\n",
    "\n",
    "evaluate_model(\"k-Nearest Neighbors (RandomisedSearchCV)\", params)"
   ]
  },
  {
   "cell_type": "markdown",
   "id": "20fd4166-1804-4954-bd2c-3a7a0baff0a7",
   "metadata": {},
   "source": [
    "##### 02 | Logistic Regression"
   ]
  },
  {
   "cell_type": "code",
   "execution_count": 20,
   "id": "3d9cede3-271a-4d08-8947-a1c50226c9c1",
   "metadata": {
    "tags": []
   },
   "outputs": [
    {
     "name": "stdout",
     "output_type": "stream",
     "text": [
      "Model: Logistic Regression (RandomisedSearchCV) {'C': 0.01, 'class_weight': 'auto', 'l1_ratio': 0.007066305219717406, 'max_iter': 10000, 'penalty': 'elasticnet', 'solver': 'saga'}\n",
      "=============================================================================================================================\n",
      "Train set \t| Accuracy: 0.5251 \t| AUC: 0.5000 \t\t┆\t Train-Dev set \t| Accuracy: 0.5268 \t| AUC: 0.5000\n",
      "Dev set \t| Accuracy: 0.5333 \t| AUC: 0.5000 \t\t┆\t Test set \t| Accuracy: 0.4247 \t| AUC: 0.5000\n",
      "=============================================================================================================================\n",
      "CPU times: user 268 ms, sys: 3.12 ms, total: 272 ms\n",
      "Wall time: 271 ms\n"
     ]
    }
   ],
   "source": [
    "%%time\n",
    "np.random.seed(42)\n",
    "\n",
    "grid_params = {\n",
    "    \"C\": 0.001 * 10 ** np.arange(0, 6),\n",
    "    \"class_weight\": [\"balanced\", \"auto\"],\n",
    "    \"max_iter\": [10000],\n",
    "    \"penalty\": [\"elasticnet\"],\n",
    "    \"solver\": [\"saga\"],\n",
    "    \"l1_ratio\": stats.uniform(0, 1),\n",
    "}\n",
    "clf = RandomizedSearchCV(\n",
    "    LogisticRegression(), grid_params,\n",
    "    n_iter=20, cv=5, scoring=\"accuracy\"\n",
    ")\n",
    "clf.fit(*data[\"Dev\"][\"Train\"])\n",
    "\n",
    "params = clf.best_params_\n",
    "clf = clf.best_estimator_\n",
    "\n",
    "evaluate_model(\"Logistic Regression (RandomisedSearchCV)\", params)"
   ]
  },
  {
   "cell_type": "markdown",
   "id": "24b5634d-b88c-4769-9518-4998fe17673a",
   "metadata": {},
   "source": [
    "##### 03 | Support Vector Machine"
   ]
  },
  {
   "cell_type": "code",
   "execution_count": 21,
   "id": "e675f4d2-6ad3-4867-953c-3fc0b489b7c2",
   "metadata": {
    "tags": []
   },
   "outputs": [
    {
     "name": "stdout",
     "output_type": "stream",
     "text": [
      "Model: Support Vector Machine (RandomisedSearchCV) {'C': 24, 'gamma': 'scale', 'kernel': 'rbf'}\n",
      "=============================================================================================================================\n",
      "Train set \t| Accuracy: 0.7542 \t| AUC: 0.7502 \t\t┆\t Train-Dev set \t| Accuracy: 0.7500 \t| AUC: 0.7474\n",
      "Dev set \t| Accuracy: 0.5778 \t| AUC: 0.5655 \t\t┆\t Test set \t| Accuracy: 0.5616 \t| AUC: 0.5599\n",
      "=============================================================================================================================\n",
      "CPU times: user 5.18 s, sys: 21.5 ms, total: 5.2 s\n",
      "Wall time: 5.22 s\n"
     ]
    }
   ],
   "source": [
    "%%time\n",
    "np.random.seed(42)\n",
    "\n",
    "grid_params = {\n",
    "    \"C\": stats.randint(1, 100),\n",
    "    \"kernel\": [\"linear\", \"poly\", \"rbf\", \"sigmoid\"],\n",
    "    \"gamma\": [\"scale\"],\n",
    "}\n",
    "clf = RandomizedSearchCV(\n",
    "    SVC(), grid_params,\n",
    "    n_iter=20, cv=5, scoring=\"accuracy\"\n",
    ")\n",
    "clf.fit(*data[\"Dev\"][\"Train\"])\n",
    "\n",
    "params = clf.best_params_\n",
    "clf = clf.best_estimator_\n",
    "\n",
    "evaluate_model(\"Support Vector Machine (RandomisedSearchCV)\", params)"
   ]
  },
  {
   "cell_type": "markdown",
   "id": "911db2cf-bb4e-4ea0-9842-bbefc40cec7d",
   "metadata": {},
   "source": [
    "##### 04 | Random Forest"
   ]
  },
  {
   "cell_type": "code",
   "execution_count": 22,
   "id": "a3818033-24f8-472f-9190-0afd2843b3c6",
   "metadata": {
    "tags": []
   },
   "outputs": [
    {
     "name": "stdout",
     "output_type": "stream",
     "text": [
      "Model: Random Forest (RandomisedSearchCV) {'bootstrap': False, 'criterion': 'entropy', 'max_depth': 6, 'max_features': 'log2', 'min_samples_leaf': 18, 'n_estimators': 252}\n",
      "=============================================================================================================================\n",
      "Train set \t| Accuracy: 0.6704 \t| AUC: 0.6653 \t\t┆\t Train-Dev set \t| Accuracy: 0.7054 \t| AUC: 0.7031\n",
      "Dev set \t| Accuracy: 0.5556 \t| AUC: 0.5506 \t\t┆\t Test set \t| Accuracy: 0.5890 \t| AUC: 0.5541\n",
      "=============================================================================================================================\n",
      "CPU times: user 32.2 s, sys: 562 ms, total: 32.7 s\n",
      "Wall time: 33.3 s\n"
     ]
    }
   ],
   "source": [
    "%%time\n",
    "np.random.seed(42)\n",
    "\n",
    "grid_params = {\n",
    "    \"bootstrap\": [True,False],\n",
    "    \"criterion\": [\"gini\", \"entropy\"],\n",
    "    \"max_depth\": stats.randint(5, 15),\n",
    "    \"max_features\": [\"sqrt\", \"log2\"],\n",
    "    \"min_samples_leaf\": stats.randint(10, 50),\n",
    "    \"n_estimators\": stats.randint(200, 500),\n",
    "}\n",
    "clf = RandomizedSearchCV(\n",
    "    RandomForestClassifier(), grid_params,\n",
    "    n_iter=20, cv=5, scoring=\"accuracy\"\n",
    ")\n",
    "clf.fit(*data[\"Dev\"][\"Train\"])\n",
    "\n",
    "params = clf.best_params_\n",
    "clf = clf.best_estimator_\n",
    "\n",
    "evaluate_model(\"Random Forest (RandomisedSearchCV)\", params)"
   ]
  },
  {
   "cell_type": "markdown",
   "id": "ea451bd1-fed2-4cd2-9590-a6f166c48ef6",
   "metadata": {},
   "source": [
    "##### 05 | eXtreme Gradient Boosting"
   ]
  },
  {
   "cell_type": "code",
   "execution_count": 23,
   "id": "e8a79751-cc44-4c34-b4bd-6ad3ab8784e0",
   "metadata": {
    "tags": []
   },
   "outputs": [
    {
     "name": "stdout",
     "output_type": "stream",
     "text": [
      "Model: eXtreme Gradient Boosting (RandomisedSearchCV) {'colsample_bytree': 0.14286681792194078, 'eval_metric': 'error', 'gamma': 1.9875765715516733, 'learning_rate': 0.026359357917859073, 'max_depth': 6, 'min_child_weight': 1, 'n_estimators': 691, 'objective': 'binary:logistic', 'reg_alpha': 242.7557302444265, 'reg_lambda': 48.048914302067814, 'scale_pos_weight': 2.223306320976562, 'subsample': 0.30494641365380215}\n",
      "=============================================================================================================================\n",
      "Train set \t| Accuracy: 0.5251 \t| AUC: 0.5000 \t\t┆\t Train-Dev set \t| Accuracy: 0.5268 \t| AUC: 0.5000\n",
      "Dev set \t| Accuracy: 0.5333 \t| AUC: 0.5000 \t\t┆\t Test set \t| Accuracy: 0.4247 \t| AUC: 0.5000\n",
      "=============================================================================================================================\n",
      "CPU times: user 3min 38s, sys: 11.3 s, total: 3min 50s\n",
      "Wall time: 22.4 s\n"
     ]
    }
   ],
   "source": [
    "%%time\n",
    "np.random.seed(42)\n",
    "\n",
    "grid_params = {\n",
    "    \"colsample_bytree\": stats.uniform(0, 1),\n",
    "    \"eval_metric\": [\"error\"],\n",
    "    \"gamma\": stats.uniform(0.1, 2.9),\n",
    "    \"learning_rate\": stats.uniform(0.01, 0.29),\n",
    "    \"max_depth\": stats.randint(3, 10),\n",
    "    \"min_child_weight\": stats.randint(0, 5),\n",
    "    \"n_estimators\": stats.randint(500, 1500),\n",
    "    \"objective\": [\"binary:logistic\"],\n",
    "    \"reg_alpha\": stats.expon(0, 50),\n",
    "    \"reg_lambda\": stats.expon(0, 50),\n",
    "    \"scale_pos_weight\": stats.uniform(1, 2),\n",
    "    \"subsample\": stats.uniform(0.3, 0.7),\n",
    "}\n",
    "clf = RandomizedSearchCV(\n",
    "    XGBClassifier(), grid_params,\n",
    "    n_iter=20, cv=5, scoring=\"accuracy\"\n",
    ")\n",
    "clf.fit(*data[\"Dev\"][\"Train\"])\n",
    "\n",
    "params = clf.best_params_\n",
    "clf = clf.best_estimator_\n",
    "\n",
    "evaluate_model(\"eXtreme Gradient Boosting (RandomisedSearchCV)\", params)"
   ]
  },
  {
   "cell_type": "markdown",
   "id": "8701cca4-15a2-4ca0-9f6e-178e079fd805",
   "metadata": {},
   "source": [
    "##### 06 | Deep Neural Network"
   ]
  },
  {
   "cell_type": "code",
   "execution_count": 24,
   "id": "4f0c4dc8-fe71-4dee-90ba-06793d751c1b",
   "metadata": {},
   "outputs": [
    {
     "name": "stdout",
     "output_type": "stream",
     "text": [
      "WARNING:tensorflow:5 out of the last 15 calls to <function Model.make_predict_function.<locals>.predict_function at 0x7fdd5b01b430> triggered tf.function retracing. Tracing is expensive and the excessive number of tracings could be due to (1) creating @tf.function repeatedly in a loop, (2) passing tensors with different shapes, (3) passing Python objects instead of tensors. For (1), please define your @tf.function outside of the loop. For (2), @tf.function has reduce_retracing=True option that can avoid unnecessary retracing. For (3), please refer to https://www.tensorflow.org/guide/function#controlling_retracing and https://www.tensorflow.org/api_docs/python/tf/function for  more details.\n",
      "WARNING:tensorflow:6 out of the last 17 calls to <function Model.make_predict_function.<locals>.predict_function at 0x7fdd59468790> triggered tf.function retracing. Tracing is expensive and the excessive number of tracings could be due to (1) creating @tf.function repeatedly in a loop, (2) passing tensors with different shapes, (3) passing Python objects instead of tensors. For (1), please define your @tf.function outside of the loop. For (2), @tf.function has reduce_retracing=True option that can avoid unnecessary retracing. For (3), please refer to https://www.tensorflow.org/guide/function#controlling_retracing and https://www.tensorflow.org/api_docs/python/tf/function for  more details.\n",
      "Model: Deep Neural Network (RandomisedSearchCV) {'batch_size': 21, 'epochs': 40, 'optimizer__activation': 'tanh', 'optimizer__n_layers': 8, 'optimizer__neurons_min': 7, 'optimizer__patience': 3}\n",
      "=============================================================================================================================\n",
      "Train set \t| Accuracy: 0.5866 \t| AUC: 0.5743 \t\t┆\t Train-Dev set \t| Accuracy: 0.5938 \t| AUC: 0.5818\n",
      "Dev set \t| Accuracy: 0.5333 \t| AUC: 0.5149 \t\t┆\t Test set \t| Accuracy: 0.3425 \t| AUC: 0.3737\n",
      "=============================================================================================================================\n",
      "CPU times: user 2min 29s, sys: 12.6 s, total: 2min 41s\n",
      "Wall time: 2min 13s\n"
     ]
    }
   ],
   "source": [
    "%%time\n",
    "np.random.seed(42)\n",
    "\n",
    "grid_params = {\n",
    "    \"optimizer__n_layers\": stats.randint(1, 10),\n",
    "    \"optimizer__neurons_min\": stats.randint(4, 8),\n",
    "    \"optimizer__activation\": [\"relu\", \"tanh\"],\n",
    "    \"optimizer__patience\": stats.randint(2, 5),\n",
    "    \"batch_size\": stats.randint(16, 32),\n",
    "    \"epochs\": stats.randint(20, 50),\n",
    "}\n",
    "clf = RandomizedSearchCV(\n",
    "    KerasClassifier(model=DNN, verbose=0), grid_params,\n",
    "    n_iter=20, cv=5, scoring=\"accuracy\"\n",
    ")\n",
    "clf.fit(*data[\"Dev\"][\"Train\"])\n",
    "\n",
    "params = clf.best_params_\n",
    "clf = clf.best_estimator_\n",
    "\n",
    "evaluate_model(\"Deep Neural Network (RandomisedSearchCV)\", params)"
   ]
  },
  {
   "cell_type": "markdown",
   "id": "81db57f1-297a-4850-bed4-3b92b23b570c",
   "metadata": {
    "tags": []
   },
   "source": [
    "#### BayesSearchCV Models"
   ]
  },
  {
   "cell_type": "markdown",
   "id": "e89b83c5-942f-4430-80ba-04adced2dedc",
   "metadata": {},
   "source": [
    "##### 01 | k-Nearest Neighbors"
   ]
  },
  {
   "cell_type": "code",
   "execution_count": 25,
   "id": "4b6941c3-c285-41de-93c5-6567425e29e6",
   "metadata": {},
   "outputs": [
    {
     "name": "stdout",
     "output_type": "stream",
     "text": [
      "Model: k-Nearest Neighbors (BayesSearchCV) OrderedDict([('n_neighbors', 20)])\n",
      "=============================================================================================================================\n",
      "Train set \t| Accuracy: 0.6592 \t| AUC: 0.6502 \t\t┆\t Train-Dev set \t| Accuracy: 0.6473 \t| AUC: 0.6413\n",
      "Dev set \t| Accuracy: 0.5778 \t| AUC: 0.5655 \t\t┆\t Test set \t| Accuracy: 0.5479 \t| AUC: 0.5649\n",
      "=============================================================================================================================\n",
      "CPU times: user 8.76 s, sys: 137 ms, total: 8.9 s\n",
      "Wall time: 8.95 s\n"
     ]
    }
   ],
   "source": [
    "%%time\n",
    "np.random.seed(42)\n",
    "\n",
    "grid_params = {\n",
    "    \"n_neighbors\": Integer(2, 50),\n",
    "}\n",
    "clf = BayesSearchCV(\n",
    "    KNeighborsClassifier(), grid_params,\n",
    "    optimizer_kwargs={\"base_estimator\": \"ET\"},\n",
    "    n_iter=20, cv=StratifiedKFold(n_splits=5),\n",
    "    scoring=\"accuracy\", return_train_score=False,\n",
    ")\n",
    "clf.fit(X_train, y_train)\n",
    "\n",
    "params = clf.best_params_\n",
    "clf = KNeighborsClassifier(**params)\n",
    "\n",
    "evaluate_model(\"k-Nearest Neighbors (BayesSearchCV)\", params)"
   ]
  },
  {
   "cell_type": "markdown",
   "id": "b1c81eee-fe16-4ee3-b38c-d958c756594a",
   "metadata": {},
   "source": [
    "##### 02 | Logistic Regression"
   ]
  },
  {
   "cell_type": "code",
   "execution_count": 26,
   "id": "ea264fd0-ee18-4630-a09c-fe95c54c1134",
   "metadata": {},
   "outputs": [
    {
     "name": "stdout",
     "output_type": "stream",
     "text": [
      "Model: Logistic Regression (BayesSearchCV) OrderedDict([('C', 41.010985781372526), ('class_weight', 'auto'), ('l1_ratio', 0.9328679988478339), ('max_iter', 10000), ('penalty', 'elasticnet'), ('solver', 'saga')])\n",
      "=============================================================================================================================\n",
      "Train set \t| Accuracy: 0.5698 \t| AUC: 0.5640 \t\t┆\t Train-Dev set \t| Accuracy: 0.5893 \t| AUC: 0.5819\n",
      "Dev set \t| Accuracy: 0.5111 \t| AUC: 0.4970 \t\t┆\t Test set \t| Accuracy: 0.5342 \t| AUC: 0.5699\n",
      "=============================================================================================================================\n",
      "CPU times: user 12.1 s, sys: 117 ms, total: 12.2 s\n",
      "Wall time: 12.2 s\n"
     ]
    }
   ],
   "source": [
    "%%time\n",
    "np.random.seed(42)\n",
    "\n",
    "grid_params = {\n",
    "    \"C\": Real(0.001, 1e+2),\n",
    "    \"class_weight\": Categorical([\"balanced\", \"auto\"]),\n",
    "    \"max_iter\": Categorical([10000]),\n",
    "    \"penalty\": Categorical([\"elasticnet\"]),\n",
    "    \"solver\": Categorical([\"saga\"]),\n",
    "    \"l1_ratio\": Real(0, 1),\n",
    "}\n",
    "clf = BayesSearchCV(\n",
    "    LogisticRegression(), grid_params,\n",
    "    optimizer_kwargs={\"base_estimator\": \"ET\"},\n",
    "    n_iter=20, cv=StratifiedKFold(n_splits=5),\n",
    "    scoring=\"accuracy\", return_train_score=False,\n",
    ")\n",
    "clf.fit(X_train, y_train)\n",
    "\n",
    "params = clf.best_params_\n",
    "clf = LogisticRegression(**params)\n",
    "\n",
    "evaluate_model(\"Logistic Regression (BayesSearchCV)\", params)"
   ]
  },
  {
   "cell_type": "markdown",
   "id": "bc62ed23-e5c2-4af0-be5f-ecb8e96209d3",
   "metadata": {},
   "source": [
    "##### 03 | Support Vector Machine"
   ]
  },
  {
   "cell_type": "code",
   "execution_count": 27,
   "id": "f404937a-e9be-4323-86e9-4cc78f0221df",
   "metadata": {},
   "outputs": [
    {
     "name": "stdout",
     "output_type": "stream",
     "text": [
      "Model: Support Vector Machine (BayesSearchCV) OrderedDict([('C', 19), ('gamma', 'scale'), ('kernel', 'rbf')])\n",
      "=============================================================================================================================\n",
      "Train set \t| Accuracy: 0.7654 \t| AUC: 0.7620 \t\t┆\t Train-Dev set \t| Accuracy: 0.7500 \t| AUC: 0.7474\n",
      "Dev set \t| Accuracy: 0.5778 \t| AUC: 0.5655 \t\t┆\t Test set \t| Accuracy: 0.5616 \t| AUC: 0.5641\n",
      "=============================================================================================================================\n",
      "CPU times: user 20.5 s, sys: 161 ms, total: 20.6 s\n",
      "Wall time: 20.7 s\n"
     ]
    }
   ],
   "source": [
    "%%time\n",
    "np.random.seed(42)\n",
    "\n",
    "grid_params = {\n",
    "    \"C\": Integer(1, 100),\n",
    "    \"kernel\": Categorical([\"linear\", \"poly\", \"rbf\", \"sigmoid\"]),\n",
    "    \"gamma\": Categorical([\"scale\"]),\n",
    "}\n",
    "clf = BayesSearchCV(\n",
    "    SVC(), grid_params,\n",
    "    optimizer_kwargs={\"base_estimator\": \"ET\"},\n",
    "    n_iter=20, cv=StratifiedKFold(n_splits=5),\n",
    "    scoring=\"accuracy\", return_train_score=False,\n",
    ")\n",
    "clf.fit(X_train, y_train)\n",
    "\n",
    "params = clf.best_params_\n",
    "clf = SVC(**params)\n",
    "\n",
    "evaluate_model(\"Support Vector Machine (BayesSearchCV)\", params)"
   ]
  },
  {
   "cell_type": "markdown",
   "id": "0eadfabe-df90-462d-827e-41936de39c7d",
   "metadata": {},
   "source": [
    "##### 04 | Random Forest"
   ]
  },
  {
   "cell_type": "code",
   "execution_count": 28,
   "id": "35c242ea-b91c-4a2d-a324-01b1918089f5",
   "metadata": {},
   "outputs": [
    {
     "name": "stdout",
     "output_type": "stream",
     "text": [
      "Model: Random Forest (BayesSearchCV) OrderedDict([('bootstrap', False), ('criterion', 'entropy'), ('max_depth', 13), ('max_features', 'log2'), ('min_samples_leaf', 35), ('n_estimators', 327)])\n",
      "=============================================================================================================================\n",
      "Train set \t| Accuracy: 0.6425 \t| AUC: 0.6365 \t\t┆\t Train-Dev set \t| Accuracy: 0.6250 \t| AUC: 0.6210\n",
      "Dev set \t| Accuracy: 0.5778 \t| AUC: 0.5625 \t\t┆\t Test set \t| Accuracy: 0.6438 \t| AUC: 0.6271\n",
      "=============================================================================================================================\n",
      "CPU times: user 38.8 s, sys: 470 ms, total: 39.3 s\n",
      "Wall time: 39.5 s\n"
     ]
    }
   ],
   "source": [
    "%%time\n",
    "np.random.seed(42)\n",
    "\n",
    "grid_params = {\n",
    "    \"bootstrap\": Categorical([True,False]),\n",
    "    \"criterion\": Categorical([\"gini\", \"entropy\"]),\n",
    "    \"max_depth\": Integer(5, 15),\n",
    "    \"max_features\": Categorical([\"sqrt\", \"log2\"]),\n",
    "    \"min_samples_leaf\": Integer(10, 50),\n",
    "    \"n_estimators\": Integer(200, 500),\n",
    "}\n",
    "clf = BayesSearchCV(\n",
    "    RandomForestClassifier(), grid_params,\n",
    "    optimizer_kwargs={\"base_estimator\": \"ET\"},\n",
    "    n_iter=20, cv=StratifiedKFold(n_splits=5),\n",
    "    scoring=\"accuracy\", return_train_score=False,\n",
    ")\n",
    "clf.fit(X_train, y_train)\n",
    "\n",
    "params = clf.best_params_\n",
    "clf = RandomForestClassifier(**params)\n",
    "\n",
    "evaluate_model(\"Random Forest (BayesSearchCV)\", params)"
   ]
  },
  {
   "cell_type": "markdown",
   "id": "a871fb01-b89e-4ea5-9d0d-d93eb7cba308",
   "metadata": {},
   "source": [
    "##### 05 | eXtreme Gradient Boosting"
   ]
  },
  {
   "cell_type": "code",
   "execution_count": 29,
   "id": "56b22367-8225-4dd0-bb34-28e23eab3b99",
   "metadata": {},
   "outputs": [
    {
     "name": "stdout",
     "output_type": "stream",
     "text": [
      "Model: eXtreme Gradient Boosting (BayesSearchCV) OrderedDict([('colsample_bytree', 0.8373883555532844), ('eval_metric', 'error'), ('gamma', 0.9495483076756899), ('learning_rate', 0.2763426938461322), ('max_depth', 7), ('min_child_weight', 5), ('n_estimators', 940), ('objective', 'binary:logistic'), ('reg_alpha', 38.5375694757653), ('reg_lambda', 7.955943284827878), ('scale_pos_weight', 1.677702769290508), ('subsample', 0.4806291449961098)])\n",
      "=============================================================================================================================\n",
      "Train set \t| Accuracy: 0.5251 \t| AUC: 0.5000 \t\t┆\t Train-Dev set \t| Accuracy: 0.5268 \t| AUC: 0.5000\n",
      "Dev set \t| Accuracy: 0.5333 \t| AUC: 0.5000 \t\t┆\t Test set \t| Accuracy: 0.4247 \t| AUC: 0.5000\n",
      "=============================================================================================================================\n",
      "CPU times: user 4min 17s, sys: 14.3 s, total: 4min 31s\n",
      "Wall time: 37.3 s\n"
     ]
    }
   ],
   "source": [
    "%%time\n",
    "np.random.seed(42)\n",
    "\n",
    "grid_params = {\n",
    "    \"colsample_bytree\": Real(0, 1),\n",
    "    \"eval_metric\": Categorical([\"error\"]),\n",
    "    \"gamma\": Real(0.1, 2.9),\n",
    "    \"learning_rate\": Real(0.01, 0.29),\n",
    "    \"max_depth\": Integer(3, 10),\n",
    "    \"min_child_weight\": Integer(0, 5),\n",
    "    \"n_estimators\": Integer(500, 1500),\n",
    "    \"objective\": Categorical([\"binary:logistic\"]),\n",
    "    \"reg_alpha\": Real(0, 50),\n",
    "    \"reg_lambda\": Real(0, 50),\n",
    "    \"scale_pos_weight\": Real(1, 2),\n",
    "    \"subsample\": Real(0.3, 0.7),\n",
    "}\n",
    "clf = BayesSearchCV(\n",
    "    XGBClassifier(), grid_params,\n",
    "    optimizer_kwargs={\"base_estimator\": \"ET\"},\n",
    "    n_iter=20, cv=StratifiedKFold(n_splits=5),\n",
    "    scoring=\"accuracy\", return_train_score=False,\n",
    ")\n",
    "clf.fit(X_train, y_train)\n",
    "\n",
    "params = clf.best_params_\n",
    "clf = XGBClassifier(**params)\n",
    "\n",
    "evaluate_model(\"eXtreme Gradient Boosting (BayesSearchCV)\", params)"
   ]
  },
  {
   "cell_type": "markdown",
   "id": "d0f6ff00-6bdb-4ffa-8c6a-c15b7dda17bf",
   "metadata": {},
   "source": [
    "##### 06 | Deep Neural Network"
   ]
  },
  {
   "cell_type": "code",
   "execution_count": 30,
   "id": "354d2dad-5897-44d4-92be-ac95538380a7",
   "metadata": {},
   "outputs": [
    {
     "name": "stdout",
     "output_type": "stream",
     "text": [
      "Model: Deep Neural Network (BayesSearchCV) OrderedDict([('batch_size', 32), ('epochs', 49), ('optimizer__activation', 'tanh'), ('optimizer__n_layers', 6), ('optimizer__neurons_min', 7), ('optimizer__patience', 4)])\n",
      "=============================================================================================================================\n",
      "Train set \t| Accuracy: 0.5642 \t| AUC: 0.5491 \t\t┆\t Train-Dev set \t| Accuracy: 0.5893 \t| AUC: 0.5776\n",
      "Dev set \t| Accuracy: 0.6000 \t| AUC: 0.5833 \t\t┆\t Test set \t| Accuracy: 0.4110 \t| AUC: 0.4416\n",
      "=============================================================================================================================\n",
      "CPU times: user 2min 33s, sys: 11.6 s, total: 2min 45s\n",
      "Wall time: 2min 16s\n"
     ]
    }
   ],
   "source": [
    "%%time\n",
    "np.random.seed(42)\n",
    "\n",
    "grid_params = {\n",
    "    \"optimizer__n_layers\": Integer(1, 10),\n",
    "    \"optimizer__neurons_min\": Integer(4, 8),\n",
    "    \"optimizer__activation\": [\"relu\", \"tanh\"],\n",
    "    \"optimizer__patience\": Integer(2, 5),\n",
    "    \"batch_size\": Integer(16, 32),\n",
    "    \"epochs\": Integer(20, 50),\n",
    "}\n",
    "clf = BayesSearchCV(\n",
    "    KerasClassifier(model=DNN, verbose=0), grid_params,\n",
    "    optimizer_kwargs={\"base_estimator\": \"ET\"},\n",
    "    n_iter=20, cv=StratifiedKFold(n_splits=5),\n",
    "    scoring=\"accuracy\", return_train_score=False,\n",
    ")\n",
    "clf.fit(X_train, y_train)\n",
    "\n",
    "params = clf.best_params_\n",
    "clf = KerasClassifier(model=DNN, verbose=0, **params)\n",
    "\n",
    "evaluate_model(\"Deep Neural Network (BayesSearchCV)\", params)"
   ]
  },
  {
   "cell_type": "markdown",
   "id": "370a6b11-1d5c-4bfb-bb9b-0f6d760332a9",
   "metadata": {
    "tags": []
   },
   "source": [
    "#### Optuna Models"
   ]
  },
  {
   "cell_type": "markdown",
   "id": "3cbe5410-02b5-46ed-a55d-4551048b5c81",
   "metadata": {},
   "source": [
    "##### 01 | k-Nearest Neighbors"
   ]
  },
  {
   "cell_type": "code",
   "execution_count": 31,
   "id": "70e454d0-47a0-4126-b758-cffe105cc05e",
   "metadata": {},
   "outputs": [
    {
     "name": "stdout",
     "output_type": "stream",
     "text": [
      "Model: k-Nearest Neighbors (Optuna) {'n_neighbors': 31}\n",
      "=============================================================================================================================\n",
      "Train set \t| Accuracy: 0.6257 \t| AUC: 0.6200 \t\t┆\t Train-Dev set \t| Accuracy: 0.6562 \t| AUC: 0.6517\n",
      "Dev set \t| Accuracy: 0.6444 \t| AUC: 0.6369 \t\t┆\t Test set \t| Accuracy: 0.5479 \t| AUC: 0.5353\n",
      "=============================================================================================================================\n",
      "CPU times: user 104 ms, sys: 2.38 ms, total: 106 ms\n",
      "Wall time: 105 ms\n"
     ]
    }
   ],
   "source": [
    "%%time\n",
    "np.random.seed(42)\n",
    "\n",
    "def objective(trial):\n",
    "    grid_params = {\n",
    "        \"n_neighbors\": trial.suggest_int(\"n_neighbors\", 2, 50),\n",
    "    }\n",
    "    \n",
    "    clf = KNeighborsClassifier(**grid_params)\n",
    "    clf.fit(*data[\"Dev\"][\"Train\"])\n",
    "    score = clf.score(*data[\"Dev\"][\"Dev\"])\n",
    "    \n",
    "    return score\n",
    "\n",
    "study = optuna.create_study(direction=\"maximize\", sampler=TPESampler(seed=42))\n",
    "study.optimize(objective, n_trials=20)\n",
    "\n",
    "params = study.best_params\n",
    "clf = KNeighborsClassifier(**params)\n",
    "\n",
    "evaluate_model(\"k-Nearest Neighbors (Optuna)\", params)"
   ]
  },
  {
   "cell_type": "markdown",
   "id": "ceb992ad-54b9-4e09-8c7e-ed7b970de204",
   "metadata": {},
   "source": [
    "##### 02 | Logistic Regression"
   ]
  },
  {
   "cell_type": "code",
   "execution_count": 32,
   "id": "926443eb-7f7c-4394-a915-9b352642a1ce",
   "metadata": {},
   "outputs": [
    {
     "name": "stdout",
     "output_type": "stream",
     "text": [
      "Model: Logistic Regression (Optuna) {'C': 61.18567761934322, 'class_weight': 'auto', 'max_iter': 10000, 'penalty': 'elasticnet', 'solver': 'saga', 'l1_ratio': 0.3663618432936917}\n",
      "=============================================================================================================================\n",
      "Train set \t| Accuracy: 0.5642 \t| AUC: 0.5581 \t\t┆\t Train-Dev set \t| Accuracy: 0.5848 \t| AUC: 0.5776\n",
      "Dev set \t| Accuracy: 0.5111 \t| AUC: 0.4970 \t\t┆\t Test set \t| Accuracy: 0.5479 \t| AUC: 0.5818\n",
      "=============================================================================================================================\n",
      "CPU times: user 351 ms, sys: 2.33 ms, total: 353 ms\n",
      "Wall time: 352 ms\n"
     ]
    }
   ],
   "source": [
    "%%time\n",
    "np.random.seed(42)\n",
    "\n",
    "def objective(trial):\n",
    "    grid_params = {\n",
    "        \"C\": trial.suggest_float(\"C\", 0.001, 1e+2),\n",
    "        \"class_weight\": trial.suggest_categorical(\"class_weight\", [\"balanced\", \"auto\"]),\n",
    "        \"max_iter\": trial.suggest_categorical(\"max_iter\", [10000]),\n",
    "        \"penalty\": trial.suggest_categorical(\"penalty\", [\"elasticnet\"]),\n",
    "        \"solver\": trial.suggest_categorical(\"solver\", [\"saga\"]),\n",
    "        \"l1_ratio\": trial.suggest_float(\"l1_ratio\", 0, 1),\n",
    "    }\n",
    "    \n",
    "    clf = LogisticRegression(**grid_params)\n",
    "    clf.fit(*data[\"Dev\"][\"Train\"])\n",
    "    score = clf.score(*data[\"Dev\"][\"Dev\"])\n",
    "    \n",
    "    return score\n",
    "\n",
    "study = optuna.create_study(direction=\"maximize\", sampler=TPESampler(seed=42))\n",
    "study.optimize(objective, n_trials=20)\n",
    "\n",
    "params = study.best_params\n",
    "clf = LogisticRegression(**params)\n",
    "\n",
    "evaluate_model(\"Logistic Regression (Optuna)\", params)"
   ]
  },
  {
   "cell_type": "markdown",
   "id": "48c4457f-c65d-4428-b4f3-4350c6c6d68f",
   "metadata": {},
   "source": [
    "##### 03 | Support Vector Machine"
   ]
  },
  {
   "cell_type": "code",
   "execution_count": 33,
   "id": "f3100070-65ce-45e0-8eee-83cb10fbb96b",
   "metadata": {},
   "outputs": [
    {
     "name": "stdout",
     "output_type": "stream",
     "text": [
      "Model: Support Vector Machine (Optuna) {'C': 62, 'kernel': 'sigmoid', 'gamma': 'scale'}\n",
      "=============================================================================================================================\n",
      "Train set \t| Accuracy: 0.5698 \t| AUC: 0.5679 \t\t┆\t Train-Dev set \t| Accuracy: 0.4330 \t| AUC: 0.4331\n",
      "Dev set \t| Accuracy: 0.7333 \t| AUC: 0.7321 \t\t┆\t Test set \t| Accuracy: 0.3836 \t| AUC: 0.3882\n",
      "=============================================================================================================================\n",
      "CPU times: user 2.02 s, sys: 3.59 ms, total: 2.02 s\n",
      "Wall time: 2.02 s\n"
     ]
    }
   ],
   "source": [
    "%%time\n",
    "np.random.seed(42)\n",
    "\n",
    "def objective(trial):\n",
    "    grid_params = {\n",
    "        \"C\": trial.suggest_int(\"C\", 1, 100),\n",
    "        \"kernel\": trial.suggest_categorical(\"kernel\", [\"linear\", \"poly\", \"rbf\", \"sigmoid\"]),\n",
    "        \"gamma\": trial.suggest_categorical(\"gamma\", [\"scale\"]),\n",
    "    }\n",
    "    \n",
    "    clf = SVC(**grid_params)\n",
    "    clf.fit(*data[\"Dev\"][\"Train\"])\n",
    "    score = clf.score(*data[\"Dev\"][\"Dev\"])\n",
    "    \n",
    "    return score\n",
    "\n",
    "study = optuna.create_study(direction=\"maximize\", sampler=TPESampler(seed=42))\n",
    "study.optimize(objective, n_trials=20)\n",
    "\n",
    "params = study.best_params\n",
    "clf = SVC(**params)\n",
    "\n",
    "evaluate_model(\"Support Vector Machine (Optuna)\", params)"
   ]
  },
  {
   "cell_type": "markdown",
   "id": "1d335037-54e0-487f-8bef-30555c0060d3",
   "metadata": {},
   "source": [
    "##### 04 | Random Forest"
   ]
  },
  {
   "cell_type": "code",
   "execution_count": 34,
   "id": "1fedea5c-d657-49bc-9736-c3a4f5923364",
   "metadata": {},
   "outputs": [
    {
     "name": "stdout",
     "output_type": "stream",
     "text": [
      "Model: Random Forest (Optuna) {'bootstrap': False, 'criterion': 'entropy', 'max_depth': 15, 'max_features': 'log2', 'min_samples_leaf': 10, 'n_estimators': 404}\n",
      "=============================================================================================================================\n",
      "Train set \t| Accuracy: 0.7654 \t| AUC: 0.7631 \t\t┆\t Train-Dev set \t| Accuracy: 0.7634 \t| AUC: 0.7601\n",
      "Dev set \t| Accuracy: 0.6222 \t| AUC: 0.6161 \t\t┆\t Test set \t| Accuracy: 0.6301 \t| AUC: 0.6110\n",
      "=============================================================================================================================\n",
      "CPU times: user 7.13 s, sys: 58.8 ms, total: 7.19 s\n",
      "Wall time: 7.2 s\n"
     ]
    }
   ],
   "source": [
    "%%time\n",
    "np.random.seed(42)\n",
    "\n",
    "def objective(trial):\n",
    "    grid_params = {\n",
    "        \"bootstrap\": trial.suggest_categorical(\"bootstrap\", [True,False]),\n",
    "        \"criterion\": trial.suggest_categorical(\"criterion\", [\"gini\", \"entropy\"]),\n",
    "        \"max_depth\": trial.suggest_int(\"max_depth\", 5, 15),\n",
    "        \"max_features\": trial.suggest_categorical(\"max_features\", [\"sqrt\", \"log2\"]),\n",
    "        \"min_samples_leaf\": trial.suggest_int(\"min_samples_leaf\", 10, 50),\n",
    "        \"n_estimators\": trial.suggest_int(\"n_estimators\", 200, 500),\n",
    "    }\n",
    "    \n",
    "    clf = RandomForestClassifier(**grid_params)\n",
    "    clf.fit(*data[\"Dev\"][\"Train\"])\n",
    "    score = clf.score(*data[\"Dev\"][\"Dev\"])\n",
    "    \n",
    "    return score\n",
    "\n",
    "study = optuna.create_study(direction=\"maximize\", sampler=TPESampler(seed=42))\n",
    "study.optimize(objective, n_trials=20)\n",
    "\n",
    "params = study.best_params\n",
    "clf = RandomForestClassifier(**params)\n",
    "\n",
    "evaluate_model(\"Random Forest (Optuna)\", params)"
   ]
  },
  {
   "cell_type": "markdown",
   "id": "0559fc50-06e7-480c-803a-90c68a3a2bc8",
   "metadata": {},
   "source": [
    "##### 05 | eXtreme Gradient Boosting"
   ]
  },
  {
   "cell_type": "code",
   "execution_count": 35,
   "id": "c3e4e116-8f98-4566-9499-96df0601c9db",
   "metadata": {},
   "outputs": [
    {
     "name": "stdout",
     "output_type": "stream",
     "text": [
      "Model: eXtreme Gradient Boosting (Optuna) {'colsample_bytree': 0.38691249885012907, 'eval_metric': 'error', 'gamma': 1.2402301959453919, 'learning_rate': 0.1638244271216156, 'max_depth': 5, 'min_child_weight': 2, 'n_estimators': 1042, 'objective': 'binary:logistic', 'reg_alpha': 0.3835177757870811, 'reg_lambda': 49.89176955365552, 'scale_pos_weight': 1.004727219400187, 'subsample': 0.6795082150508247}\n",
      "=============================================================================================================================\n",
      "Train set \t| Accuracy: 0.6760 \t| AUC: 0.6757 \t\t┆\t Train-Dev set \t| Accuracy: 0.6518 \t| AUC: 0.6498\n",
      "Dev set \t| Accuracy: 0.6667 \t| AUC: 0.6696 \t\t┆\t Test set \t| Accuracy: 0.6164 \t| AUC: 0.5991\n",
      "=============================================================================================================================\n",
      "CPU times: user 42.8 s, sys: 605 ms, total: 43.4 s\n",
      "Wall time: 3.7 s\n"
     ]
    }
   ],
   "source": [
    "%%time\n",
    "np.random.seed(42)\n",
    "\n",
    "def objective(trial):\n",
    "    grid_params = {\n",
    "        \"colsample_bytree\": trial.suggest_float(\"colsample_bytree\", 0, 1),\n",
    "        \"eval_metric\": trial.suggest_categorical(\"eval_metric\", [\"error\"]),\n",
    "        \"gamma\": trial.suggest_float(\"gamma\", 0.1, 2.9),\n",
    "        \"learning_rate\": trial.suggest_float(\"learning_rate\", 0.01, 0.29),\n",
    "        \"max_depth\": trial.suggest_int(\"max_depth\", 3, 10),\n",
    "        \"min_child_weight\": trial.suggest_int(\"min_child_weight\", 0, 5),\n",
    "        \"n_estimators\": trial.suggest_int(\"n_estimators\", 500, 1500),\n",
    "        \"objective\": trial.suggest_categorical(\"objective\", [\"binary:logistic\"]),\n",
    "        \"reg_alpha\": trial.suggest_float(\"reg_alpha\", 0, 50),\n",
    "        \"reg_lambda\": trial.suggest_float(\"reg_lambda\", 0, 50),\n",
    "        \"scale_pos_weight\": trial.suggest_float(\"scale_pos_weight\", 1, 2),\n",
    "        \"subsample\": trial.suggest_float(\"subsample\", 0.3, 0.7),\n",
    "    }\n",
    "    \n",
    "    clf = XGBClassifier(**grid_params)\n",
    "    clf.fit(*data[\"Dev\"][\"Train\"])\n",
    "    score = clf.score(*data[\"Dev\"][\"Dev\"])\n",
    "    \n",
    "    return score\n",
    "\n",
    "study = optuna.create_study(direction=\"maximize\", sampler=TPESampler(seed=42))\n",
    "study.optimize(objective, n_trials=20)\n",
    "\n",
    "params = study.best_params\n",
    "clf = XGBClassifier(**params)\n",
    "\n",
    "evaluate_model(\"eXtreme Gradient Boosting (Optuna)\", params)"
   ]
  },
  {
   "cell_type": "markdown",
   "id": "54678c7b-61ba-4a00-af98-e03d8abf388a",
   "metadata": {},
   "source": [
    "##### 06 | Deep Neural Network"
   ]
  },
  {
   "cell_type": "code",
   "execution_count": 36,
   "id": "6d5e178b-6a74-4e22-8245-4ed438338e2e",
   "metadata": {},
   "outputs": [
    {
     "name": "stdout",
     "output_type": "stream",
     "text": [
      "Model: Deep Neural Network (Optuna) {'optimizer__n_layers': 6, 'optimizer__neurons_min': 7, 'optimizer__activation': 'relu', 'optimizer__patience': 2, 'batch_size': 24, 'epochs': 20}\n",
      "=============================================================================================================================\n",
      "Train set \t| Accuracy: 0.5866 \t| AUC: 0.5743 \t\t┆\t Train-Dev set \t| Accuracy: 0.5759 \t| AUC: 0.5605\n",
      "Dev set \t| Accuracy: 0.5333 \t| AUC: 0.5179 \t\t┆\t Test set \t| Accuracy: 0.3973 \t| AUC: 0.4382\n",
      "=============================================================================================================================\n",
      "CPU times: user 32 s, sys: 2.43 s, total: 34.5 s\n",
      "Wall time: 27 s\n"
     ]
    }
   ],
   "source": [
    "%%time\n",
    "np.random.seed(42)\n",
    "\n",
    "def objective(trial):\n",
    "    grid_params = {\n",
    "        \"optimizer__n_layers\": trial.suggest_int(\"optimizer__n_layers\", 1, 10),\n",
    "        \"optimizer__neurons_min\": trial.suggest_int(\"optimizer__neurons_min\", 4, 8),\n",
    "        \"optimizer__activation\": trial.suggest_categorical(\"optimizer__activation\", [\"relu\", \"tanh\"]),\n",
    "        \"optimizer__patience\": trial.suggest_int(\"optimizer__patience\", 2, 5),\n",
    "        \"batch_size\": trial.suggest_int(\"batch_size\", 16, 32),\n",
    "        \"epochs\": trial.suggest_int(\"epochs\", 20, 50),\n",
    "    }\n",
    "    \n",
    "    clf = KerasClassifier(model=DNN, verbose=0, **grid_params)\n",
    "    clf.fit(*data[\"Dev\"][\"Train\"])\n",
    "    score = clf.score(*data[\"Dev\"][\"Dev\"])\n",
    "    \n",
    "    return score\n",
    "\n",
    "study = optuna.create_study(direction=\"maximize\", sampler=TPESampler(seed=42))\n",
    "study.optimize(objective, n_trials=20)\n",
    "\n",
    "params = study.best_params\n",
    "clf = KerasClassifier(model=DNN, verbose=0, **params)\n",
    "\n",
    "evaluate_model(\"Deep Neural Network (Optuna)\", params)"
   ]
  },
  {
   "cell_type": "markdown",
   "id": "650f7f9f-6be7-4ab1-935e-d9cca63084c4",
   "metadata": {
    "tags": []
   },
   "source": [
    "#### Hyperopt Models"
   ]
  },
  {
   "cell_type": "markdown",
   "id": "54673151-8d02-4b88-9217-616e971148ee",
   "metadata": {},
   "source": [
    "##### 01 | k-Nearest Neighbors"
   ]
  },
  {
   "cell_type": "code",
   "execution_count": 37,
   "id": "e299e7b0-19af-4835-8dbb-87ddd9160504",
   "metadata": {
    "tags": []
   },
   "outputs": [
    {
     "name": "stdout",
     "output_type": "stream",
     "text": [
      "Model: k-Nearest Neighbors (Hyperopt) {'n_neighbors': 24}\n",
      "=============================================================================================================================\n",
      "Train set \t| Accuracy: 0.6592 \t| AUC: 0.6519 \t\t┆\t Train-Dev set \t| Accuracy: 0.6473 \t| AUC: 0.6413\n",
      "Dev set \t| Accuracy: 0.6444 \t| AUC: 0.6339 \t\t┆\t Test set \t| Accuracy: 0.5479 \t| AUC: 0.5480\n",
      "=============================================================================================================================\n",
      "CPU times: user 77.6 ms, sys: 2.36 ms, total: 80 ms\n",
      "Wall time: 78.4 ms\n"
     ]
    }
   ],
   "source": [
    "%%time\n",
    "np.random.seed(42)\n",
    "\n",
    "def objective(params):\n",
    "    clf = KNeighborsClassifier(**params)\n",
    "    clf.fit(*data[\"Dev\"][\"Train\"])\n",
    "    score = clf.score(*data[\"Dev\"][\"Dev\"])\n",
    "    \n",
    "    return {\"loss\": -score, \"status\": STATUS_OK}\n",
    "\n",
    "grid_params = {\n",
    "    \"n_neighbors\": hp.randint(\"n_neighbors\", 2, 50),\n",
    "}\n",
    "\n",
    "trials = Trials()\n",
    "best = fmin(\n",
    "    fn=objective, space=grid_params,\n",
    "    algo=tpe.suggest, max_evals=20,\n",
    "    trials=trials, rstate=np.random.default_rng(42),\n",
    "    show_progressbar=False,\n",
    ")\n",
    "\n",
    "params = space_eval(grid_params, best)\n",
    "clf = KNeighborsClassifier(**params)\n",
    "\n",
    "evaluate_model(\"k-Nearest Neighbors (Hyperopt)\", params)"
   ]
  },
  {
   "cell_type": "markdown",
   "id": "7aee684d-a116-49d9-b80d-69ac1f3663c7",
   "metadata": {},
   "source": [
    "##### 02 | Logistic Regression"
   ]
  },
  {
   "cell_type": "code",
   "execution_count": 38,
   "id": "04c7cb47-b666-4a81-90c4-f519e866abd3",
   "metadata": {
    "tags": []
   },
   "outputs": [
    {
     "name": "stdout",
     "output_type": "stream",
     "text": [
      "Model: Logistic Regression (Hyperopt) {'C': 88.39277862063608, 'class_weight': 'auto', 'l1_ratio': 0.8136554076402878, 'max_iter': 10000, 'penalty': 'elasticnet', 'solver': 'saga'}\n",
      "=============================================================================================================================\n",
      "Train set \t| Accuracy: 0.5642 \t| AUC: 0.5581 \t\t┆\t Train-Dev set \t| Accuracy: 0.5848 \t| AUC: 0.5776\n",
      "Dev set \t| Accuracy: 0.5111 \t| AUC: 0.4970 \t\t┆\t Test set \t| Accuracy: 0.5479 \t| AUC: 0.5818\n",
      "=============================================================================================================================\n",
      "CPU times: user 306 ms, sys: 1.73 ms, total: 308 ms\n",
      "Wall time: 306 ms\n"
     ]
    }
   ],
   "source": [
    "%%time\n",
    "np.random.seed(42)\n",
    "\n",
    "def objective(params):\n",
    "    clf = LogisticRegression(**params)\n",
    "    clf.fit(*data[\"Dev\"][\"Train\"])\n",
    "    score = clf.score(*data[\"Dev\"][\"Dev\"])\n",
    "    \n",
    "    return {\"loss\": -score, \"status\": STATUS_OK}\n",
    "\n",
    "grid_params = {\n",
    "    \"C\": hp.uniform(\"C\", 0.001, 1e+2),\n",
    "    \"class_weight\": hp.choice(\"class_weight\", [\"balanced\", \"auto\"]),\n",
    "    \"max_iter\": hp.choice(\"max_iter\", [10000]),\n",
    "    \"penalty\": hp.choice(\"penalty\", [\"elasticnet\"]),\n",
    "    \"solver\": hp.choice(\"solver\", [\"saga\"]),\n",
    "    \"l1_ratio\": hp.uniform(\"l1_ratio\", 0, 1),\n",
    "}\n",
    "\n",
    "trials = Trials()\n",
    "best = fmin(\n",
    "    fn=objective, space=grid_params,\n",
    "    algo=tpe.suggest, max_evals=20,\n",
    "    trials=trials, rstate=np.random.default_rng(42),\n",
    "    show_progressbar=False,\n",
    ")\n",
    "\n",
    "params = space_eval(grid_params, best)\n",
    "clf = LogisticRegression(**params)\n",
    "\n",
    "evaluate_model(\"Logistic Regression (Hyperopt)\", params)"
   ]
  },
  {
   "cell_type": "markdown",
   "id": "01223e5d-69d4-4488-9db6-17dbe077ffce",
   "metadata": {},
   "source": [
    "##### 03 | Support Vector Machine"
   ]
  },
  {
   "cell_type": "code",
   "execution_count": 39,
   "id": "08e172bb-02f9-4810-9574-c8056adca8ce",
   "metadata": {
    "tags": []
   },
   "outputs": [
    {
     "name": "stdout",
     "output_type": "stream",
     "text": [
      "Model: Support Vector Machine (Hyperopt) {'C': 30, 'gamma': 'scale', 'kernel': 'sigmoid'}\n",
      "=============================================================================================================================\n",
      "Train set \t| Accuracy: 0.5587 \t| AUC: 0.5561 \t\t┆\t Train-Dev set \t| Accuracy: 0.4643 \t| AUC: 0.4695\n",
      "Dev set \t| Accuracy: 0.7333 \t| AUC: 0.7321 \t\t┆\t Test set \t| Accuracy: 0.4110 \t| AUC: 0.3952\n",
      "=============================================================================================================================\n",
      "CPU times: user 1.67 s, sys: 3.2 ms, total: 1.67 s\n",
      "Wall time: 1.67 s\n"
     ]
    }
   ],
   "source": [
    "%%time\n",
    "np.random.seed(42)\n",
    "\n",
    "def objective(params):\n",
    "    clf = SVC(**params)\n",
    "    clf.fit(*data[\"Dev\"][\"Train\"])\n",
    "    score = clf.score(*data[\"Dev\"][\"Dev\"])\n",
    "    \n",
    "    return {\"loss\": -score, \"status\": STATUS_OK}\n",
    "\n",
    "grid_params = {\n",
    "    \"C\": hp.randint(\"C\", 1, 100),\n",
    "    \"kernel\": hp.choice(\"kernel\", [\"linear\", \"poly\", \"rbf\", \"sigmoid\"]),\n",
    "    \"gamma\": hp.choice(\"gamma\", [\"scale\"]),\n",
    "}\n",
    "\n",
    "trials = Trials()\n",
    "best = fmin(\n",
    "    fn=objective, space=grid_params,\n",
    "    algo=tpe.suggest, max_evals=20,\n",
    "    trials=trials, rstate=np.random.default_rng(42),\n",
    "    show_progressbar=False,\n",
    ")\n",
    "\n",
    "params = space_eval(grid_params, best)\n",
    "clf = SVC(**params)\n",
    "\n",
    "evaluate_model(\"Support Vector Machine (Hyperopt)\", params)"
   ]
  },
  {
   "cell_type": "markdown",
   "id": "93abe0be-53ae-4e11-be3e-828078662183",
   "metadata": {},
   "source": [
    "##### 04 | Random Forest"
   ]
  },
  {
   "cell_type": "code",
   "execution_count": 40,
   "id": "ce726b0d-5cae-4c39-bfd5-fab3205cd20c",
   "metadata": {
    "tags": []
   },
   "outputs": [
    {
     "name": "stdout",
     "output_type": "stream",
     "text": [
      "Model: Random Forest (Hyperopt) {'bootstrap': False, 'criterion': 'gini', 'max_depth': 12, 'max_features': 'sqrt', 'min_samples_leaf': 21, 'n_estimators': 303}\n",
      "=============================================================================================================================\n",
      "Train set \t| Accuracy: 0.6927 \t| AUC: 0.6883 \t\t┆\t Train-Dev set \t| Accuracy: 0.6830 \t| AUC: 0.6804\n",
      "Dev set \t| Accuracy: 0.6000 \t| AUC: 0.5952 \t\t┆\t Test set \t| Accuracy: 0.5890 \t| AUC: 0.5710\n",
      "=============================================================================================================================\n",
      "CPU times: user 6.98 s, sys: 64 ms, total: 7.04 s\n",
      "Wall time: 7.05 s\n"
     ]
    }
   ],
   "source": [
    "%%time\n",
    "np.random.seed(42)\n",
    "\n",
    "def objective(params):\n",
    "    clf = RandomForestClassifier(**params)\n",
    "    clf.fit(*data[\"Dev\"][\"Train\"])\n",
    "    score = clf.score(*data[\"Dev\"][\"Dev\"])\n",
    "    \n",
    "    return {\"loss\": -score, \"status\": STATUS_OK}\n",
    "\n",
    "grid_params = {\n",
    "    \"bootstrap\": hp.choice(\"bootstrap\", [True,False]),\n",
    "    \"criterion\": hp.choice(\"criterion\", [\"gini\", \"entropy\"]),\n",
    "    \"max_depth\": hp.randint(\"max_depth\", 5, 15),\n",
    "    \"max_features\": hp.choice(\"max_features\", [\"sqrt\", \"log2\"]),\n",
    "    \"min_samples_leaf\": hp.randint(\"min_samples_leaf\", 10, 50),\n",
    "    \"n_estimators\": hp.randint(\"n_estimators\", 200, 500),\n",
    "}\n",
    "\n",
    "trials = Trials()\n",
    "best = fmin(\n",
    "    fn=objective, space=grid_params,\n",
    "    algo=tpe.suggest, max_evals=20,\n",
    "    trials=trials, rstate=np.random.default_rng(42),\n",
    "    show_progressbar=False,\n",
    ")\n",
    "\n",
    "params = space_eval(grid_params, best)\n",
    "clf = RandomForestClassifier(**params)\n",
    "\n",
    "evaluate_model(\"Random Forest (Hyperopt)\", params)"
   ]
  },
  {
   "cell_type": "markdown",
   "id": "964ca9e6-bb4d-4afc-8a8c-253c9e6768bc",
   "metadata": {},
   "source": [
    "##### 05 | eXtreme Gradient Boosting"
   ]
  },
  {
   "cell_type": "code",
   "execution_count": 41,
   "id": "3f74d4c3-cafc-4c9d-abaf-fdf560f46e76",
   "metadata": {
    "tags": []
   },
   "outputs": [
    {
     "name": "stdout",
     "output_type": "stream",
     "text": [
      "Model: eXtreme Gradient Boosting (Hyperopt) {'colsample_bytree': 0.34187263717236394, 'eval_metric': 'error', 'gamma': 0.1153664931135201, 'learning_rate': 0.2577669527551195, 'max_depth': 8, 'min_child_weight': 2, 'n_estimators': 1488, 'objective': 'binary:logistic', 'reg_alpha': 2.9968094540700263, 'reg_lambda': 43.046524095671735, 'scale_pos_weight': 1.6082491621711366, 'subsample': 0.42016854191620334}\n",
      "=============================================================================================================================\n",
      "Train set \t| Accuracy: 0.7318 \t| AUC: 0.7379 \t\t┆\t Train-Dev set \t| Accuracy: 0.7232 \t| AUC: 0.7306\n",
      "Dev set \t| Accuracy: 0.6222 \t| AUC: 0.6310 \t\t┆\t Test set \t| Accuracy: 0.6164 \t| AUC: 0.5695\n",
      "=============================================================================================================================\n",
      "CPU times: user 36.6 s, sys: 482 ms, total: 37.1 s\n",
      "Wall time: 3.17 s\n"
     ]
    }
   ],
   "source": [
    "%%time\n",
    "np.random.seed(42)\n",
    "\n",
    "def objective(params):\n",
    "    clf = XGBClassifier(**params)\n",
    "    clf.fit(*data[\"Dev\"][\"Train\"])\n",
    "    score = clf.score(*data[\"Dev\"][\"Dev\"])\n",
    "    \n",
    "    return {\"loss\": -score, \"status\": STATUS_OK}\n",
    "\n",
    "grid_params = {\n",
    "    \"colsample_bytree\": hp.uniform(\"colsample_bytree\", 0, 1),\n",
    "    \"eval_metric\": hp.choice(\"eval_metric\", [\"error\"]),\n",
    "    \"gamma\": hp.uniform(\"gamma\", 0.1, 2.9),\n",
    "    \"learning_rate\": hp.uniform(\"learning_rate\", 0.01, 0.29),\n",
    "    \"max_depth\": hp.randint(\"max_depth\", 3, 10),\n",
    "    \"min_child_weight\": hp.randint(\"min_child_weight\", 0, 5),\n",
    "    \"n_estimators\": hp.randint(\"n_estimators\", 500, 1500),\n",
    "    \"objective\": hp.choice(\"objective\", [\"binary:logistic\"]),\n",
    "    \"reg_alpha\": hp.uniform(\"reg_alpha\", 0, 50),\n",
    "    \"reg_lambda\": hp.uniform(\"reg_lambda\", 0, 50),\n",
    "    \"scale_pos_weight\": hp.uniform(\"scale_pos_weight\", 1, 2),\n",
    "    \"subsample\": hp.uniform(\"subsample\", 0.3, 0.7),\n",
    "}\n",
    "\n",
    "trials = Trials()\n",
    "best = fmin(\n",
    "    fn=objective, space=grid_params,\n",
    "    algo=tpe.suggest, max_evals=20,\n",
    "    trials=trials, rstate=np.random.default_rng(42),\n",
    "    show_progressbar=False,\n",
    ")\n",
    "\n",
    "params = space_eval(grid_params, best)\n",
    "clf = XGBClassifier(**params)\n",
    "\n",
    "evaluate_model(\"eXtreme Gradient Boosting (Hyperopt)\", params)"
   ]
  },
  {
   "cell_type": "markdown",
   "id": "2d3d901f-c9bc-424d-bc03-014d8a4d4029",
   "metadata": {},
   "source": [
    "##### 06 | Deep Neural Network"
   ]
  },
  {
   "cell_type": "code",
   "execution_count": 42,
   "id": "a56df6a9-e654-4345-b880-a0a9d739cfa4",
   "metadata": {
    "tags": []
   },
   "outputs": [
    {
     "name": "stdout",
     "output_type": "stream",
     "text": [
      "Model: Deep Neural Network (Hyperopt) {'batch_size': 17, 'epochs': 26, 'optimizer__activation': 'tanh', 'optimizer__n_layers': 1, 'optimizer__neurons_min': 6, 'optimizer__patience': 4}\n",
      "=============================================================================================================================\n",
      "Train set \t| Accuracy: 0.6425 \t| AUC: 0.6337 \t\t┆\t Train-Dev set \t| Accuracy: 0.5804 \t| AUC: 0.5667\n",
      "Dev set \t| Accuracy: 0.4889 \t| AUC: 0.4732 \t\t┆\t Test set \t| Accuracy: 0.3836 \t| AUC: 0.4178\n",
      "=============================================================================================================================\n",
      "CPU times: user 34.1 s, sys: 2.65 s, total: 36.7 s\n",
      "Wall time: 28.8 s\n"
     ]
    }
   ],
   "source": [
    "%%time\n",
    "np.random.seed(42)\n",
    "\n",
    "def objective(params):\n",
    "    clf = KerasClassifier(model=DNN, verbose=0, **params)\n",
    "    clf.fit(*data[\"Dev\"][\"Train\"])\n",
    "    score = clf.score(*data[\"Dev\"][\"Dev\"])\n",
    "    \n",
    "    return {\"loss\": -score, \"status\": STATUS_OK}\n",
    "\n",
    "grid_params = {\n",
    "    \"optimizer__n_layers\": hp.randint(\"optimizer__n_layers\", 1, 10),\n",
    "    \"optimizer__neurons_min\": hp.randint(\"optimizer__neurons_min\", 4, 8),\n",
    "    \"optimizer__activation\": hp.choice(\"optimizer__activation\", [\"relu\", \"tanh\"]),\n",
    "    \"optimizer__patience\": hp.randint(\"optimizer__patience\", 2, 5),\n",
    "    \"batch_size\": hp.randint(\"batch_size\", 16, 32),\n",
    "    \"epochs\": hp.randint(\"epochs\", 20, 50),\n",
    "}\n",
    "\n",
    "trials = Trials()\n",
    "best = fmin(\n",
    "    fn=objective, space=grid_params,\n",
    "    algo=tpe.suggest, max_evals=20,\n",
    "    trials=trials, rstate=np.random.default_rng(42),\n",
    "    show_progressbar=False,\n",
    ")\n",
    "\n",
    "params = space_eval(grid_params, best)\n",
    "clf = KerasClassifier(model=DNN, verbose=0, **params)\n",
    "\n",
    "evaluate_model(\"Deep Neural Network (Hyperopt)\", params)"
   ]
  },
  {
   "cell_type": "markdown",
   "id": "7bcde6a5-5f55-478b-9cd5-72e57dcf5f5a",
   "metadata": {},
   "source": [
    "### Model Performance\n",
    "---"
   ]
  },
  {
   "cell_type": "code",
   "execution_count": 43,
   "id": "9132112f-76aa-4b1d-abd8-6fdfa1ee3060",
   "metadata": {},
   "outputs": [
    {
     "data": {
      "text/html": [
       "<div>\n",
       "<style scoped>\n",
       "    .dataframe tbody tr th:only-of-type {\n",
       "        vertical-align: middle;\n",
       "    }\n",
       "\n",
       "    .dataframe tbody tr th {\n",
       "        vertical-align: top;\n",
       "    }\n",
       "\n",
       "    .dataframe thead th {\n",
       "        text-align: right;\n",
       "    }\n",
       "</style>\n",
       "<table border=\"1\" class=\"dataframe\">\n",
       "  <thead>\n",
       "    <tr style=\"text-align: right;\">\n",
       "      <th></th>\n",
       "      <th>accuracy</th>\n",
       "      <th>auc</th>\n",
       "      <th>params</th>\n",
       "    </tr>\n",
       "  </thead>\n",
       "  <tbody>\n",
       "    <tr>\n",
       "      <th>Random Forest (BayesSearchCV)</th>\n",
       "      <td>0.643836</td>\n",
       "      <td>0.627112</td>\n",
       "      <td>OrderedDict([('bootstrap', False), ('criterion...</td>\n",
       "    </tr>\n",
       "    <tr>\n",
       "      <th>Random Forest (Optuna)</th>\n",
       "      <td>0.630137</td>\n",
       "      <td>0.610983</td>\n",
       "      <td>{'bootstrap': False, 'criterion': 'entropy', '...</td>\n",
       "    </tr>\n",
       "    <tr>\n",
       "      <th>Random Forest</th>\n",
       "      <td>0.616438</td>\n",
       "      <td>0.603303</td>\n",
       "      <td>None</td>\n",
       "    </tr>\n",
       "    <tr>\n",
       "      <th>eXtreme Gradient Boosting (Optuna)</th>\n",
       "      <td>0.616438</td>\n",
       "      <td>0.599078</td>\n",
       "      <td>{'colsample_bytree': 0.38691249885012907, 'eva...</td>\n",
       "    </tr>\n",
       "    <tr>\n",
       "      <th>eXtreme Gradient Boosting (Hyperopt)</th>\n",
       "      <td>0.616438</td>\n",
       "      <td>0.569508</td>\n",
       "      <td>{'colsample_bytree': 0.34187263717236394, 'eva...</td>\n",
       "    </tr>\n",
       "    <tr>\n",
       "      <th>Random Forest (Hyperopt)</th>\n",
       "      <td>0.589041</td>\n",
       "      <td>0.571045</td>\n",
       "      <td>{'bootstrap': False, 'criterion': 'gini', 'max...</td>\n",
       "    </tr>\n",
       "    <tr>\n",
       "      <th>Random Forest (RandomisedSearchCV)</th>\n",
       "      <td>0.589041</td>\n",
       "      <td>0.554147</td>\n",
       "      <td>{'bootstrap': False, 'criterion': 'entropy', '...</td>\n",
       "    </tr>\n",
       "    <tr>\n",
       "      <th>Support Vector Machine</th>\n",
       "      <td>0.561644</td>\n",
       "      <td>0.581029</td>\n",
       "      <td>None</td>\n",
       "    </tr>\n",
       "    <tr>\n",
       "      <th>Support Vector Machine (BayesSearchCV)</th>\n",
       "      <td>0.561644</td>\n",
       "      <td>0.564132</td>\n",
       "      <td>OrderedDict([('C', 19), ('gamma', 'scale'), ('...</td>\n",
       "    </tr>\n",
       "    <tr>\n",
       "      <th>Support Vector Machine (RandomisedSearchCV)</th>\n",
       "      <td>0.561644</td>\n",
       "      <td>0.559908</td>\n",
       "      <td>{'C': 24, 'gamma': 'scale', 'kernel': 'rbf'}</td>\n",
       "    </tr>\n",
       "    <tr>\n",
       "      <th>Logistic Regression (Optuna)</th>\n",
       "      <td>0.547945</td>\n",
       "      <td>0.581797</td>\n",
       "      <td>{'C': 61.18567761934322, 'class_weight': 'auto...</td>\n",
       "    </tr>\n",
       "    <tr>\n",
       "      <th>Logistic Regression (Hyperopt)</th>\n",
       "      <td>0.547945</td>\n",
       "      <td>0.581797</td>\n",
       "      <td>{'C': 88.39277862063608, 'class_weight': 'auto...</td>\n",
       "    </tr>\n",
       "    <tr>\n",
       "      <th>k-Nearest Neighbors (RandomisedSearchCV)</th>\n",
       "      <td>0.547945</td>\n",
       "      <td>0.564900</td>\n",
       "      <td>{'n_neighbors': 20}</td>\n",
       "    </tr>\n",
       "    <tr>\n",
       "      <th>k-Nearest Neighbors (BayesSearchCV)</th>\n",
       "      <td>0.547945</td>\n",
       "      <td>0.564900</td>\n",
       "      <td>OrderedDict([('n_neighbors', 20)])</td>\n",
       "    </tr>\n",
       "    <tr>\n",
       "      <th>k-Nearest Neighbors</th>\n",
       "      <td>0.547945</td>\n",
       "      <td>0.552227</td>\n",
       "      <td>None</td>\n",
       "    </tr>\n",
       "    <tr>\n",
       "      <th>k-Nearest Neighbors (Hyperopt)</th>\n",
       "      <td>0.547945</td>\n",
       "      <td>0.548003</td>\n",
       "      <td>{'n_neighbors': 24}</td>\n",
       "    </tr>\n",
       "    <tr>\n",
       "      <th>k-Nearest Neighbors (Optuna)</th>\n",
       "      <td>0.547945</td>\n",
       "      <td>0.535330</td>\n",
       "      <td>{'n_neighbors': 31}</td>\n",
       "    </tr>\n",
       "    <tr>\n",
       "      <th>Logistic Regression (BayesSearchCV)</th>\n",
       "      <td>0.534247</td>\n",
       "      <td>0.569892</td>\n",
       "      <td>OrderedDict([('C', 41.010985781372526), ('clas...</td>\n",
       "    </tr>\n",
       "    <tr>\n",
       "      <th>Deep Neural Network</th>\n",
       "      <td>0.534247</td>\n",
       "      <td>0.531874</td>\n",
       "      <td>None</td>\n",
       "    </tr>\n",
       "    <tr>\n",
       "      <th>eXtreme Gradient Boosting</th>\n",
       "      <td>0.520548</td>\n",
       "      <td>0.503072</td>\n",
       "      <td>None</td>\n",
       "    </tr>\n",
       "    <tr>\n",
       "      <th>Logistic Regression</th>\n",
       "      <td>0.465753</td>\n",
       "      <td>0.514593</td>\n",
       "      <td>None</td>\n",
       "    </tr>\n",
       "    <tr>\n",
       "      <th>Logistic Regression (RandomisedSearchCV)</th>\n",
       "      <td>0.424658</td>\n",
       "      <td>0.500000</td>\n",
       "      <td>{'C': 0.01, 'class_weight': 'auto', 'l1_ratio'...</td>\n",
       "    </tr>\n",
       "    <tr>\n",
       "      <th>eXtreme Gradient Boosting (RandomisedSearchCV)</th>\n",
       "      <td>0.424658</td>\n",
       "      <td>0.500000</td>\n",
       "      <td>{'colsample_bytree': 0.14286681792194078, 'eva...</td>\n",
       "    </tr>\n",
       "    <tr>\n",
       "      <th>eXtreme Gradient Boosting (BayesSearchCV)</th>\n",
       "      <td>0.424658</td>\n",
       "      <td>0.500000</td>\n",
       "      <td>OrderedDict([('colsample_bytree', 0.8373883555...</td>\n",
       "    </tr>\n",
       "    <tr>\n",
       "      <th>Deep Neural Network (BayesSearchCV)</th>\n",
       "      <td>0.410959</td>\n",
       "      <td>0.441628</td>\n",
       "      <td>OrderedDict([('batch_size', 32), ('epochs', 49...</td>\n",
       "    </tr>\n",
       "    <tr>\n",
       "      <th>Support Vector Machine (Hyperopt)</th>\n",
       "      <td>0.410959</td>\n",
       "      <td>0.395161</td>\n",
       "      <td>{'C': 30, 'gamma': 'scale', 'kernel': 'sigmoid'}</td>\n",
       "    </tr>\n",
       "    <tr>\n",
       "      <th>Deep Neural Network (Optuna)</th>\n",
       "      <td>0.397260</td>\n",
       "      <td>0.438172</td>\n",
       "      <td>{'optimizer__n_layers': 6, 'optimizer__neurons...</td>\n",
       "    </tr>\n",
       "    <tr>\n",
       "      <th>Deep Neural Network (Hyperopt)</th>\n",
       "      <td>0.383562</td>\n",
       "      <td>0.417819</td>\n",
       "      <td>{'batch_size': 17, 'epochs': 26, 'optimizer__a...</td>\n",
       "    </tr>\n",
       "    <tr>\n",
       "      <th>Support Vector Machine (Optuna)</th>\n",
       "      <td>0.383562</td>\n",
       "      <td>0.388249</td>\n",
       "      <td>{'C': 62, 'kernel': 'sigmoid', 'gamma': 'scale'}</td>\n",
       "    </tr>\n",
       "    <tr>\n",
       "      <th>Deep Neural Network (RandomisedSearchCV)</th>\n",
       "      <td>0.342466</td>\n",
       "      <td>0.373656</td>\n",
       "      <td>{'batch_size': 21, 'epochs': 40, 'optimizer__a...</td>\n",
       "    </tr>\n",
       "  </tbody>\n",
       "</table>\n",
       "</div>"
      ],
      "text/plain": [
       "                                                accuracy       auc  \\\n",
       "Random Forest (BayesSearchCV)                   0.643836  0.627112   \n",
       "Random Forest (Optuna)                          0.630137  0.610983   \n",
       "Random Forest                                   0.616438  0.603303   \n",
       "eXtreme Gradient Boosting (Optuna)              0.616438  0.599078   \n",
       "eXtreme Gradient Boosting (Hyperopt)            0.616438  0.569508   \n",
       "Random Forest (Hyperopt)                        0.589041  0.571045   \n",
       "Random Forest (RandomisedSearchCV)              0.589041  0.554147   \n",
       "Support Vector Machine                          0.561644  0.581029   \n",
       "Support Vector Machine (BayesSearchCV)          0.561644  0.564132   \n",
       "Support Vector Machine (RandomisedSearchCV)     0.561644  0.559908   \n",
       "Logistic Regression (Optuna)                    0.547945  0.581797   \n",
       "Logistic Regression (Hyperopt)                  0.547945  0.581797   \n",
       "k-Nearest Neighbors (RandomisedSearchCV)        0.547945  0.564900   \n",
       "k-Nearest Neighbors (BayesSearchCV)             0.547945  0.564900   \n",
       "k-Nearest Neighbors                             0.547945  0.552227   \n",
       "k-Nearest Neighbors (Hyperopt)                  0.547945  0.548003   \n",
       "k-Nearest Neighbors (Optuna)                    0.547945  0.535330   \n",
       "Logistic Regression (BayesSearchCV)             0.534247  0.569892   \n",
       "Deep Neural Network                             0.534247  0.531874   \n",
       "eXtreme Gradient Boosting                       0.520548  0.503072   \n",
       "Logistic Regression                             0.465753  0.514593   \n",
       "Logistic Regression (RandomisedSearchCV)        0.424658  0.500000   \n",
       "eXtreme Gradient Boosting (RandomisedSearchCV)  0.424658  0.500000   \n",
       "eXtreme Gradient Boosting (BayesSearchCV)       0.424658  0.500000   \n",
       "Deep Neural Network (BayesSearchCV)             0.410959  0.441628   \n",
       "Support Vector Machine (Hyperopt)               0.410959  0.395161   \n",
       "Deep Neural Network (Optuna)                    0.397260  0.438172   \n",
       "Deep Neural Network (Hyperopt)                  0.383562  0.417819   \n",
       "Support Vector Machine (Optuna)                 0.383562  0.388249   \n",
       "Deep Neural Network (RandomisedSearchCV)        0.342466  0.373656   \n",
       "\n",
       "                                                                                           params  \n",
       "Random Forest (BayesSearchCV)                   OrderedDict([('bootstrap', False), ('criterion...  \n",
       "Random Forest (Optuna)                          {'bootstrap': False, 'criterion': 'entropy', '...  \n",
       "Random Forest                                                                                None  \n",
       "eXtreme Gradient Boosting (Optuna)              {'colsample_bytree': 0.38691249885012907, 'eva...  \n",
       "eXtreme Gradient Boosting (Hyperopt)            {'colsample_bytree': 0.34187263717236394, 'eva...  \n",
       "Random Forest (Hyperopt)                        {'bootstrap': False, 'criterion': 'gini', 'max...  \n",
       "Random Forest (RandomisedSearchCV)              {'bootstrap': False, 'criterion': 'entropy', '...  \n",
       "Support Vector Machine                                                                       None  \n",
       "Support Vector Machine (BayesSearchCV)          OrderedDict([('C', 19), ('gamma', 'scale'), ('...  \n",
       "Support Vector Machine (RandomisedSearchCV)          {'C': 24, 'gamma': 'scale', 'kernel': 'rbf'}  \n",
       "Logistic Regression (Optuna)                    {'C': 61.18567761934322, 'class_weight': 'auto...  \n",
       "Logistic Regression (Hyperopt)                  {'C': 88.39277862063608, 'class_weight': 'auto...  \n",
       "k-Nearest Neighbors (RandomisedSearchCV)                                      {'n_neighbors': 20}  \n",
       "k-Nearest Neighbors (BayesSearchCV)                            OrderedDict([('n_neighbors', 20)])  \n",
       "k-Nearest Neighbors                                                                          None  \n",
       "k-Nearest Neighbors (Hyperopt)                                                {'n_neighbors': 24}  \n",
       "k-Nearest Neighbors (Optuna)                                                  {'n_neighbors': 31}  \n",
       "Logistic Regression (BayesSearchCV)             OrderedDict([('C', 41.010985781372526), ('clas...  \n",
       "Deep Neural Network                                                                          None  \n",
       "eXtreme Gradient Boosting                                                                    None  \n",
       "Logistic Regression                                                                          None  \n",
       "Logistic Regression (RandomisedSearchCV)        {'C': 0.01, 'class_weight': 'auto', 'l1_ratio'...  \n",
       "eXtreme Gradient Boosting (RandomisedSearchCV)  {'colsample_bytree': 0.14286681792194078, 'eva...  \n",
       "eXtreme Gradient Boosting (BayesSearchCV)       OrderedDict([('colsample_bytree', 0.8373883555...  \n",
       "Deep Neural Network (BayesSearchCV)             OrderedDict([('batch_size', 32), ('epochs', 49...  \n",
       "Support Vector Machine (Hyperopt)                {'C': 30, 'gamma': 'scale', 'kernel': 'sigmoid'}  \n",
       "Deep Neural Network (Optuna)                    {'optimizer__n_layers': 6, 'optimizer__neurons...  \n",
       "Deep Neural Network (Hyperopt)                  {'batch_size': 17, 'epochs': 26, 'optimizer__a...  \n",
       "Support Vector Machine (Optuna)                  {'C': 62, 'kernel': 'sigmoid', 'gamma': 'scale'}  \n",
       "Deep Neural Network (RandomisedSearchCV)        {'batch_size': 21, 'epochs': 40, 'optimizer__a...  "
      ]
     },
     "execution_count": 43,
     "metadata": {},
     "output_type": "execute_result"
    }
   ],
   "source": [
    "df = pd.DataFrame()\n",
    "for idx, val in metrics_log.items():\n",
    "    df_merge = pd.DataFrame(\n",
    "        index=[idx],\n",
    "        data={\n",
    "            \"accuracy\": val[\"accuracy\"],\n",
    "            \"auc\": val[\"auc\"],\n",
    "            \"params\": str(val[\"params\"])\n",
    "        }\n",
    "    )\n",
    "    df = pd.concat([df, df_merge])\n",
    "df.sort_values([\"accuracy\", \"auc\"], ascending=False)"
   ]
  }
 ],
 "metadata": {
  "kernelspec": {
   "display_name": "Python 3 (ipykernel)",
   "language": "python",
   "name": "python3"
  },
  "language_info": {
   "codemirror_mode": {
    "name": "ipython",
    "version": 3
   },
   "file_extension": ".py",
   "mimetype": "text/x-python",
   "name": "python",
   "nbconvert_exporter": "python",
   "pygments_lexer": "ipython3",
   "version": "3.8.13"
  },
  "vscode": {
   "interpreter": {
    "hash": "3bca4bf59174697eaf5d139796990dd4150480d9adb4d94852af4c7a8eb8acda"
   }
  }
 },
 "nbformat": 4,
 "nbformat_minor": 5
}
