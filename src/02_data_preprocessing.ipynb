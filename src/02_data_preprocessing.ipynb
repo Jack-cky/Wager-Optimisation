{
 "cells": [
  {
   "cell_type": "markdown",
   "id": "72a3737f-f845-4fcb-a5c3-2bd272996725",
   "metadata": {},
   "source": [
    "## Data Pre-Processing\n",
    "---"
   ]
  },
  {
   "cell_type": "code",
   "execution_count": 1,
   "id": "0b35f986-cf75-4606-a4da-e75b8374986d",
   "metadata": {},
   "outputs": [],
   "source": [
    "import numpy as np\n",
    "import pandas as pd\n",
    "\n",
    "pd.set_option(\"display.max_columns\", None)"
   ]
  },
  {
   "cell_type": "markdown",
   "id": "0f7aaafe-f8a2-431e-9a97-a16b27c8a715",
   "metadata": {},
   "source": [
    "### Data Import\n",
    "---"
   ]
  },
  {
   "cell_type": "code",
   "execution_count": 2,
   "id": "2e08bda1-cbc5-4123-8118-84578018019a",
   "metadata": {},
   "outputs": [],
   "source": [
    "j1 = pd.read_parquet(\"../data/j1_league.parquet\")"
   ]
  },
  {
   "cell_type": "markdown",
   "id": "db6aba7e-7451-49e2-ba94-930f1a434e18",
   "metadata": {},
   "source": [
    "### Data Cleansing\n",
    "---"
   ]
  },
  {
   "cell_type": "code",
   "execution_count": 3,
   "id": "9c5edc8e-3184-42d4-b4e3-74d197a35652",
   "metadata": {},
   "outputs": [],
   "source": [
    "j1[\"date\"] = pd.to_datetime(j1[\"date\"]).dt.normalize()\n",
    "\n",
    "j1[[\"goals_home\", \"goals_away\"]] = j1[[\"goals_home\", \"goals_away\"]].astype(int)\n",
    "\n",
    "j1[\"handicap\"] = j1[\"handicap\"].str.replace(\"nan\", \"0\").str.split(\",\") \\\n",
    "    .apply(lambda y: np.mean(list(map(float, y))))"
   ]
  },
  {
   "cell_type": "markdown",
   "id": "69e1973d-caff-4fb3-a51a-15d634930ce3",
   "metadata": {},
   "source": [
    "### Data Wrangling\n",
    "---"
   ]
  },
  {
   "cell_type": "code",
   "execution_count": 4,
   "id": "88d63c6d-824c-4455-be4c-5f850c31b0d1",
   "metadata": {},
   "outputs": [],
   "source": [
    "j1[\"season\"] = j1[\"date\"].dt.year\n",
    "\n",
    "j1[\"points_home\"] = np.select(\n",
    "    [j1[\"goals_home\"] > j1[\"goals_away\"], j1[\"goals_home\"] < j1[\"goals_away\"]],\n",
    "    [3, 0], default=1\n",
    ")\n",
    "j1[\"points_away\"] = j1[\"points_home\"].map({3: 0, 0: 3, 1: 1})\n",
    "\n",
    "j1[\"net_goals_home\"] = abs(j1[\"goals_home\"] - j1[\"goals_away\"]) \\\n",
    "    * np.where(j1[\"points_home\"] == 3, 1, -1)\n",
    "j1[\"net_goals_away\"] = j1[\"net_goals_home\"] * -1\n",
    "\n",
    "j1[\"results\"] = ((j1[\"goals_home\"] + j1[\"handicap\"] > j1[\"goals_away\"]) \\\n",
    "    | ((j1[\"goals_home\"] + j1[\"handicap\"] == j1[\"goals_away\"]) & (j1[\"handicap\"] > 0))) + 0"
   ]
  },
  {
   "cell_type": "markdown",
   "id": "c89520b2-51ce-4d8a-a0ef-4e3c2c6e0789",
   "metadata": {},
   "source": [
    "### Normalisation\n",
    "---"
   ]
  },
  {
   "cell_type": "code",
   "execution_count": 5,
   "id": "1bfb1a02-34e3-4227-a294-09531f22ec16",
   "metadata": {
    "tags": []
   },
   "outputs": [
    {
     "data": {
      "text/html": [
       "<div>\n",
       "<style scoped>\n",
       "    .dataframe tbody tr th:only-of-type {\n",
       "        vertical-align: middle;\n",
       "    }\n",
       "\n",
       "    .dataframe tbody tr th {\n",
       "        vertical-align: top;\n",
       "    }\n",
       "\n",
       "    .dataframe thead th {\n",
       "        text-align: right;\n",
       "    }\n",
       "</style>\n",
       "<table border=\"1\" class=\"dataframe\">\n",
       "  <thead>\n",
       "    <tr style=\"text-align: right;\">\n",
       "      <th></th>\n",
       "      <th>date</th>\n",
       "      <th>home</th>\n",
       "      <th>away</th>\n",
       "      <th>handicap</th>\n",
       "      <th>results</th>\n",
       "    </tr>\n",
       "  </thead>\n",
       "  <tbody>\n",
       "    <tr>\n",
       "      <th>0</th>\n",
       "      <td>2015-03-07</td>\n",
       "      <td>Gamba Osaka</td>\n",
       "      <td>FC Tokyo</td>\n",
       "      <td>-0.50</td>\n",
       "      <td>0</td>\n",
       "    </tr>\n",
       "    <tr>\n",
       "      <th>1</th>\n",
       "      <td>2015-03-07</td>\n",
       "      <td>Nagoya Grampus</td>\n",
       "      <td>Matsumoto Y FC</td>\n",
       "      <td>-0.75</td>\n",
       "      <td>0</td>\n",
       "    </tr>\n",
       "    <tr>\n",
       "      <th>2</th>\n",
       "      <td>2015-03-07</td>\n",
       "      <td>Sagan Tosu</td>\n",
       "      <td>Albirex Niigata</td>\n",
       "      <td>-0.25</td>\n",
       "      <td>1</td>\n",
       "    </tr>\n",
       "    <tr>\n",
       "      <th>3</th>\n",
       "      <td>2015-03-07</td>\n",
       "      <td>Sanfrecce Hiroshima</td>\n",
       "      <td>Ventforet Kofu</td>\n",
       "      <td>-0.50</td>\n",
       "      <td>1</td>\n",
       "    </tr>\n",
       "    <tr>\n",
       "      <th>4</th>\n",
       "      <td>2015-03-07</td>\n",
       "      <td>Vegalta Sendai</td>\n",
       "      <td>Montedio Yamagata</td>\n",
       "      <td>-0.25</td>\n",
       "      <td>1</td>\n",
       "    </tr>\n",
       "  </tbody>\n",
       "</table>\n",
       "</div>"
      ],
      "text/plain": [
       "        date                 home               away  handicap  results\n",
       "0 2015-03-07          Gamba Osaka           FC Tokyo     -0.50        0\n",
       "1 2015-03-07       Nagoya Grampus     Matsumoto Y FC     -0.75        0\n",
       "2 2015-03-07           Sagan Tosu    Albirex Niigata     -0.25        1\n",
       "3 2015-03-07  Sanfrecce Hiroshima     Ventforet Kofu     -0.50        1\n",
       "4 2015-03-07       Vegalta Sendai  Montedio Yamagata     -0.25        1"
      ]
     },
     "execution_count": 5,
     "metadata": {},
     "output_type": "execute_result"
    }
   ],
   "source": [
    "dc = [\"date\", \"home\", \"away\", \"handicap\", \"results\"]\n",
    "fixtures = j1[dc].copy()\n",
    "fixtures.head()"
   ]
  },
  {
   "cell_type": "code",
   "execution_count": 6,
   "id": "ab548607-cd0f-4992-b036-e2b32a313d14",
   "metadata": {},
   "outputs": [],
   "source": [
    "dc = [\"season\", \"date\", \"home\", \"goals_home\", \"points_home\", \"net_goals_home\"]\n",
    "home = j1[dc].copy()\n",
    "home.columns = [column.replace(r\"_home\", \"\") for column in home.columns]\n",
    "home.rename(columns={\"home\": \"team\"}, inplace=True)\n",
    "home[\"stadium\"] = 1"
   ]
  },
  {
   "cell_type": "code",
   "execution_count": 7,
   "id": "7806ce52-411e-49ce-8547-5de0b74c45ec",
   "metadata": {},
   "outputs": [],
   "source": [
    "dc = [\"season\", \"date\", \"away\", \"goals_away\", \"points_away\", \"net_goals_away\"]\n",
    "away = j1[dc].copy()\n",
    "away.columns = [column.replace(r\"_away\", \"\") for column in away.columns]\n",
    "away.rename(columns={\"away\": \"team\"}, inplace=True)\n",
    "away[\"stadium\"] = 0"
   ]
  },
  {
   "cell_type": "code",
   "execution_count": 8,
   "id": "434126a2-6a78-4c34-a86b-2f9b282d2c07",
   "metadata": {},
   "outputs": [
    {
     "data": {
      "text/html": [
       "<div>\n",
       "<style scoped>\n",
       "    .dataframe tbody tr th:only-of-type {\n",
       "        vertical-align: middle;\n",
       "    }\n",
       "\n",
       "    .dataframe tbody tr th {\n",
       "        vertical-align: top;\n",
       "    }\n",
       "\n",
       "    .dataframe thead th {\n",
       "        text-align: right;\n",
       "    }\n",
       "</style>\n",
       "<table border=\"1\" class=\"dataframe\">\n",
       "  <thead>\n",
       "    <tr style=\"text-align: right;\">\n",
       "      <th></th>\n",
       "      <th>season</th>\n",
       "      <th>date</th>\n",
       "      <th>team</th>\n",
       "      <th>goals</th>\n",
       "      <th>points</th>\n",
       "      <th>net_goals</th>\n",
       "      <th>stadium</th>\n",
       "    </tr>\n",
       "  </thead>\n",
       "  <tbody>\n",
       "    <tr>\n",
       "      <th>0</th>\n",
       "      <td>2015</td>\n",
       "      <td>2015-03-07</td>\n",
       "      <td>Gamba Osaka</td>\n",
       "      <td>2</td>\n",
       "      <td>1</td>\n",
       "      <td>0</td>\n",
       "      <td>1</td>\n",
       "    </tr>\n",
       "    <tr>\n",
       "      <th>1</th>\n",
       "      <td>2015</td>\n",
       "      <td>2015-03-07</td>\n",
       "      <td>Kashiwa Reysol</td>\n",
       "      <td>1</td>\n",
       "      <td>3</td>\n",
       "      <td>1</td>\n",
       "      <td>0</td>\n",
       "    </tr>\n",
       "    <tr>\n",
       "      <th>2</th>\n",
       "      <td>2015</td>\n",
       "      <td>2015-03-07</td>\n",
       "      <td>Kawasaki Frontale</td>\n",
       "      <td>3</td>\n",
       "      <td>3</td>\n",
       "      <td>2</td>\n",
       "      <td>0</td>\n",
       "    </tr>\n",
       "    <tr>\n",
       "      <th>3</th>\n",
       "      <td>2015</td>\n",
       "      <td>2015-03-07</td>\n",
       "      <td>Montedio Yamagata</td>\n",
       "      <td>0</td>\n",
       "      <td>0</td>\n",
       "      <td>-2</td>\n",
       "      <td>0</td>\n",
       "    </tr>\n",
       "    <tr>\n",
       "      <th>4</th>\n",
       "      <td>2015</td>\n",
       "      <td>2015-03-07</td>\n",
       "      <td>FC Tokyo</td>\n",
       "      <td>2</td>\n",
       "      <td>1</td>\n",
       "      <td>0</td>\n",
       "      <td>0</td>\n",
       "    </tr>\n",
       "  </tbody>\n",
       "</table>\n",
       "</div>"
      ],
      "text/plain": [
       "   season       date               team  goals  points  net_goals  stadium\n",
       "0    2015 2015-03-07        Gamba Osaka      2       1          0        1\n",
       "1    2015 2015-03-07     Kashiwa Reysol      1       3          1        0\n",
       "2    2015 2015-03-07  Kawasaki Frontale      3       3          2        0\n",
       "3    2015 2015-03-07  Montedio Yamagata      0       0         -2        0\n",
       "4    2015 2015-03-07           FC Tokyo      2       1          0        0"
      ]
     },
     "execution_count": 8,
     "metadata": {},
     "output_type": "execute_result"
    }
   ],
   "source": [
    "plays = pd.concat([home, away], ignore_index=True)\n",
    "plays.sort_values(\"date\", ignore_index=True, inplace=True)\n",
    "plays.head()"
   ]
  },
  {
   "cell_type": "markdown",
   "id": "ab9d1625-7657-42ae-9717-cf2400cc4c2b",
   "metadata": {},
   "source": [
    "### Data Export\n",
    "---"
   ]
  },
  {
   "cell_type": "code",
   "execution_count": 9,
   "id": "bebc67cc-cb12-4565-8cf1-70748b89a217",
   "metadata": {},
   "outputs": [],
   "source": [
    "fixtures.to_parquet(\"../data/fixtures.parquet\")\n",
    "plays.to_parquet(\"../data/plays.parquet\")"
   ]
  }
 ],
 "metadata": {
  "kernelspec": {
   "display_name": "Python 3 (ipykernel)",
   "language": "python",
   "name": "python3"
  },
  "language_info": {
   "codemirror_mode": {
    "name": "ipython",
    "version": 3
   },
   "file_extension": ".py",
   "mimetype": "text/x-python",
   "name": "python",
   "nbconvert_exporter": "python",
   "pygments_lexer": "ipython3",
   "version": "3.8.13"
  }
 },
 "nbformat": 4,
 "nbformat_minor": 5
}
