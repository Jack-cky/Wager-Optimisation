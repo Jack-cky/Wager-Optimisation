{
 "cells": [
  {
   "cell_type": "markdown",
   "id": "267cd9be-26dd-4578-b2f9-9cbb88121c1c",
   "metadata": {},
   "source": [
    "## Model Evaluation\n",
    "---"
   ]
  },
  {
   "cell_type": "code",
   "execution_count": 1,
   "id": "55e9bf08-3792-45cf-ae0b-e1a5c0354957",
   "metadata": {},
   "outputs": [],
   "source": [
    "import numpy as np\n",
    "import pandas as pd\n",
    "from sklearn.preprocessing import MinMaxScaler\n",
    "from sklearn.metrics import roc_auc_score\n",
    "from sklearn.metrics import accuracy_score\n",
    "from sklearn.ensemble import RandomForestClassifier\n",
    "\n",
    "np.random.seed(1834633)\n",
    "pd.set_option(\"display.max_columns\", None)"
   ]
  },
  {
   "cell_type": "markdown",
   "id": "965cafa3-64e2-4bcb-800e-05f26bb980de",
   "metadata": {},
   "source": [
    "### Data Import\n",
    "---"
   ]
  },
  {
   "cell_type": "code",
   "execution_count": 2,
   "id": "5b332b16-d31b-421c-a6b1-299a619df663",
   "metadata": {},
   "outputs": [],
   "source": [
    "j1 = pd.read_parquet(\"../data/j1_league_featured.parquet\") \\\n",
    "    .query(\"date.dt.year >= 2022\").copy()"
   ]
  },
  {
   "cell_type": "markdown",
   "id": "f3839677-83a9-47fe-b64e-b17eadf4a5e6",
   "metadata": {},
   "source": [
    "### Production Simulation\n",
    "---"
   ]
  },
  {
   "cell_type": "code",
   "execution_count": 3,
   "id": "b6e4f358-02cb-4d39-bebc-1d16479dca9b",
   "metadata": {},
   "outputs": [],
   "source": [
    "dc_y = [\"results\"]\n",
    "dc_X = [col for col in j1.columns if col not in [\"date\", \"home\", \"away\", \"results\", \"net_goals\"]]\n",
    "\n",
    "y_test = j1.query(\"date >= '20220901'\")[dc_y].values.ravel()\n",
    "X_test = j1.query(\"date >= '20220901'\")[dc_X].values\n",
    "\n",
    "y_train = j1.query(\"date < '20220901'\")[dc_y].values.ravel()\n",
    "X_train = j1.query(\"date < '20220901'\")[dc_X].values"
   ]
  },
  {
   "cell_type": "code",
   "execution_count": 4,
   "id": "689c2893-7592-4830-87cc-fe71f6bf8ecf",
   "metadata": {},
   "outputs": [],
   "source": [
    "scaler = MinMaxScaler()\n",
    "\n",
    "X_train = scaler.fit_transform(X_train)\n",
    "X_test = scaler.transform(X_test)"
   ]
  },
  {
   "cell_type": "markdown",
   "id": "0cbe76b5-f0f4-41af-a6c8-813f803dc3b8",
   "metadata": {},
   "source": [
    "### Model Restore\n",
    "---"
   ]
  },
  {
   "cell_type": "code",
   "execution_count": 5,
   "id": "dd125857-bc4e-48d2-87fc-1f2b83c92573",
   "metadata": {},
   "outputs": [
    {
     "data": {
      "text/html": [
       "<style>#sk-container-id-1 {color: black;background-color: white;}#sk-container-id-1 pre{padding: 0;}#sk-container-id-1 div.sk-toggleable {background-color: white;}#sk-container-id-1 label.sk-toggleable__label {cursor: pointer;display: block;width: 100%;margin-bottom: 0;padding: 0.3em;box-sizing: border-box;text-align: center;}#sk-container-id-1 label.sk-toggleable__label-arrow:before {content: \"▸\";float: left;margin-right: 0.25em;color: #696969;}#sk-container-id-1 label.sk-toggleable__label-arrow:hover:before {color: black;}#sk-container-id-1 div.sk-estimator:hover label.sk-toggleable__label-arrow:before {color: black;}#sk-container-id-1 div.sk-toggleable__content {max-height: 0;max-width: 0;overflow: hidden;text-align: left;background-color: #f0f8ff;}#sk-container-id-1 div.sk-toggleable__content pre {margin: 0.2em;color: black;border-radius: 0.25em;background-color: #f0f8ff;}#sk-container-id-1 input.sk-toggleable__control:checked~div.sk-toggleable__content {max-height: 200px;max-width: 100%;overflow: auto;}#sk-container-id-1 input.sk-toggleable__control:checked~label.sk-toggleable__label-arrow:before {content: \"▾\";}#sk-container-id-1 div.sk-estimator input.sk-toggleable__control:checked~label.sk-toggleable__label {background-color: #d4ebff;}#sk-container-id-1 div.sk-label input.sk-toggleable__control:checked~label.sk-toggleable__label {background-color: #d4ebff;}#sk-container-id-1 input.sk-hidden--visually {border: 0;clip: rect(1px 1px 1px 1px);clip: rect(1px, 1px, 1px, 1px);height: 1px;margin: -1px;overflow: hidden;padding: 0;position: absolute;width: 1px;}#sk-container-id-1 div.sk-estimator {font-family: monospace;background-color: #f0f8ff;border: 1px dotted black;border-radius: 0.25em;box-sizing: border-box;margin-bottom: 0.5em;}#sk-container-id-1 div.sk-estimator:hover {background-color: #d4ebff;}#sk-container-id-1 div.sk-parallel-item::after {content: \"\";width: 100%;border-bottom: 1px solid gray;flex-grow: 1;}#sk-container-id-1 div.sk-label:hover label.sk-toggleable__label {background-color: #d4ebff;}#sk-container-id-1 div.sk-serial::before {content: \"\";position: absolute;border-left: 1px solid gray;box-sizing: border-box;top: 0;bottom: 0;left: 50%;z-index: 0;}#sk-container-id-1 div.sk-serial {display: flex;flex-direction: column;align-items: center;background-color: white;padding-right: 0.2em;padding-left: 0.2em;position: relative;}#sk-container-id-1 div.sk-item {position: relative;z-index: 1;}#sk-container-id-1 div.sk-parallel {display: flex;align-items: stretch;justify-content: center;background-color: white;position: relative;}#sk-container-id-1 div.sk-item::before, #sk-container-id-1 div.sk-parallel-item::before {content: \"\";position: absolute;border-left: 1px solid gray;box-sizing: border-box;top: 0;bottom: 0;left: 50%;z-index: -1;}#sk-container-id-1 div.sk-parallel-item {display: flex;flex-direction: column;z-index: 1;position: relative;background-color: white;}#sk-container-id-1 div.sk-parallel-item:first-child::after {align-self: flex-end;width: 50%;}#sk-container-id-1 div.sk-parallel-item:last-child::after {align-self: flex-start;width: 50%;}#sk-container-id-1 div.sk-parallel-item:only-child::after {width: 0;}#sk-container-id-1 div.sk-dashed-wrapped {border: 1px dashed gray;margin: 0 0.4em 0.5em 0.4em;box-sizing: border-box;padding-bottom: 0.4em;background-color: white;}#sk-container-id-1 div.sk-label label {font-family: monospace;font-weight: bold;display: inline-block;line-height: 1.2em;}#sk-container-id-1 div.sk-label-container {text-align: center;}#sk-container-id-1 div.sk-container {/* jupyter's `normalize.less` sets `[hidden] { display: none; }` but bootstrap.min.css set `[hidden] { display: none !important; }` so we also need the `!important` here to be able to override the default hidden behavior on the sphinx rendered scikit-learn.org. See: https://github.com/scikit-learn/scikit-learn/issues/21755 */display: inline-block !important;position: relative;}#sk-container-id-1 div.sk-text-repr-fallback {display: none;}</style><div id=\"sk-container-id-1\" class=\"sk-top-container\"><div class=\"sk-text-repr-fallback\"><pre>RandomForestClassifier(bootstrap=False, max_depth=10, max_features=&#x27;log2&#x27;,\n",
       "                       min_samples_leaf=33, n_estimators=237)</pre><b>In a Jupyter environment, please rerun this cell to show the HTML representation or trust the notebook. <br />On GitHub, the HTML representation is unable to render, please try loading this page with nbviewer.org.</b></div><div class=\"sk-container\" hidden><div class=\"sk-item\"><div class=\"sk-estimator sk-toggleable\"><input class=\"sk-toggleable__control sk-hidden--visually\" id=\"sk-estimator-id-1\" type=\"checkbox\" checked><label for=\"sk-estimator-id-1\" class=\"sk-toggleable__label sk-toggleable__label-arrow\">RandomForestClassifier</label><div class=\"sk-toggleable__content\"><pre>RandomForestClassifier(bootstrap=False, max_depth=10, max_features=&#x27;log2&#x27;,\n",
       "                       min_samples_leaf=33, n_estimators=237)</pre></div></div></div></div></div>"
      ],
      "text/plain": [
       "RandomForestClassifier(bootstrap=False, max_depth=10, max_features='log2',\n",
       "                       min_samples_leaf=33, n_estimators=237)"
      ]
     },
     "execution_count": 5,
     "metadata": {},
     "output_type": "execute_result"
    }
   ],
   "source": [
    "np.random.seed(42)\n",
    "\n",
    "clf = RandomForestClassifier(\n",
    "    bootstrap=False, criterion=\"gini\",\n",
    "    max_depth=10, max_features=\"log2\",\n",
    "    min_samples_leaf=33, n_estimators=237\n",
    ")\n",
    "clf.fit(X_train, y_train)"
   ]
  },
  {
   "cell_type": "markdown",
   "id": "90167b37-56bf-4445-a08b-85666ec7669f",
   "metadata": {},
   "source": [
    "### Expected Return\n",
    "---"
   ]
  },
  {
   "cell_type": "code",
   "execution_count": 6,
   "id": "517eb8b8-a1d0-4020-a7ba-d0c6aede86b0",
   "metadata": {},
   "outputs": [],
   "source": [
    "df = j1.query(\"date >= '20220901'\").copy()\n",
    "df[\"y_hat\"] = clf.predict(X_test)"
   ]
  },
  {
   "cell_type": "code",
   "execution_count": 7,
   "id": "8d893482-946a-4846-8528-47c1084e4f41",
   "metadata": {},
   "outputs": [],
   "source": [
    "n = df.shape[0]\n",
    "cost = 200 * df.query(\"results != y_hat\").shape[0]\n",
    "profit = 0.8 * df.query(\"results == y_hat and handicap + net_goals != 0\").shape[0] \\\n",
    "    + 0.4 * df.query(\"results == y_hat and handicap + net_goals == 0\").shape[0]\n",
    "profit *= 200\n",
    "roi = (profit / cost - 1) * 100"
   ]
  },
  {
   "cell_type": "code",
   "execution_count": 8,
   "id": "ffcfc0a5-6ffa-48d9-b49d-823c6531c13a",
   "metadata": {},
   "outputs": [
    {
     "data": {
      "text/html": [
       "<div>\n",
       "<style scoped>\n",
       "    .dataframe tbody tr th:only-of-type {\n",
       "        vertical-align: middle;\n",
       "    }\n",
       "\n",
       "    .dataframe tbody tr th {\n",
       "        vertical-align: top;\n",
       "    }\n",
       "\n",
       "    .dataframe thead th {\n",
       "        text-align: right;\n",
       "    }\n",
       "</style>\n",
       "<table border=\"1\" class=\"dataframe\">\n",
       "  <thead>\n",
       "    <tr style=\"text-align: right;\">\n",
       "      <th></th>\n",
       "      <th>Number of bets</th>\n",
       "      <th>Actual return</th>\n",
       "      <th>Return on investment</th>\n",
       "    </tr>\n",
       "  </thead>\n",
       "  <tbody>\n",
       "    <tr>\n",
       "      <th>Product Environment</th>\n",
       "      <td>73 games</td>\n",
       "      <td>HKD 1,560</td>\n",
       "      <td>28.89%</td>\n",
       "    </tr>\n",
       "  </tbody>\n",
       "</table>\n",
       "</div>"
      ],
      "text/plain": [
       "                    Number of bets Actual return Return on investment\n",
       "Product Environment       73 games     HKD 1,560               28.89%"
      ]
     },
     "execution_count": 8,
     "metadata": {},
     "output_type": "execute_result"
    }
   ],
   "source": [
    "pd.DataFrame(\n",
    "    {\n",
    "        \"Number of bets\": [f\"{n} games\"],\n",
    "        \"Actual return\": [f\"HKD {profit - cost:,.0f}\"],\n",
    "        \"Return on investment\": [f\"{roi:.2f}%\"],\n",
    "    },\n",
    "    index=[\"Product Environment\"]\n",
    ")"
   ]
  },
  {
   "cell_type": "markdown",
   "id": "d6db193f-a321-44c9-801d-93657e840c25",
   "metadata": {},
   "source": [
    "### Outsider Game\n",
    "---"
   ]
  },
  {
   "cell_type": "code",
   "execution_count": 9,
   "id": "f136cc5c-795d-485d-af59-1cd17430d51f",
   "metadata": {},
   "outputs": [],
   "source": [
    "dc = [\"date\", \"home\", \"away\", \"handicap\", \"results\", \"net_goals\", \"y_hat\"]"
   ]
  },
  {
   "cell_type": "code",
   "execution_count": 10,
   "id": "191a5db2-3dcd-4bad-b2be-5038a484f90b",
   "metadata": {},
   "outputs": [
    {
     "data": {
      "text/html": [
       "<div>\n",
       "<style scoped>\n",
       "    .dataframe tbody tr th:only-of-type {\n",
       "        vertical-align: middle;\n",
       "    }\n",
       "\n",
       "    .dataframe tbody tr th {\n",
       "        vertical-align: top;\n",
       "    }\n",
       "\n",
       "    .dataframe thead th {\n",
       "        text-align: right;\n",
       "    }\n",
       "</style>\n",
       "<table border=\"1\" class=\"dataframe\">\n",
       "  <thead>\n",
       "    <tr style=\"text-align: right;\">\n",
       "      <th></th>\n",
       "      <th>date</th>\n",
       "      <th>home</th>\n",
       "      <th>away</th>\n",
       "      <th>handicap</th>\n",
       "      <th>results</th>\n",
       "      <th>net_goals</th>\n",
       "      <th>y_hat</th>\n",
       "    </tr>\n",
       "  </thead>\n",
       "  <tbody>\n",
       "    <tr>\n",
       "      <th>2432</th>\n",
       "      <td>2022-10-12</td>\n",
       "      <td>Yokohama F-Marinos</td>\n",
       "      <td>Jubilo Iwata</td>\n",
       "      <td>-2.0</td>\n",
       "      <td>0</td>\n",
       "      <td>-1</td>\n",
       "      <td>1</td>\n",
       "    </tr>\n",
       "  </tbody>\n",
       "</table>\n",
       "</div>"
      ],
      "text/plain": [
       "           date                home          away  handicap  results  \\\n",
       "2432 2022-10-12  Yokohama F-Marinos  Jubilo Iwata      -2.0        0   \n",
       "\n",
       "      net_goals  y_hat  \n",
       "2432         -1      1  "
      ]
     },
     "execution_count": 10,
     "metadata": {},
     "output_type": "execute_result"
    }
   ],
   "source": [
    "df.query(\"date == '20221012' and home == 'Yokohama F-Marinos' and away == 'Jubilo Iwata'\")[dc]"
   ]
  },
  {
   "cell_type": "code",
   "execution_count": 11,
   "id": "ffcf6872-e00c-4b9c-9d68-21e5e02a5397",
   "metadata": {},
   "outputs": [
    {
     "data": {
      "text/html": [
       "<div>\n",
       "<style scoped>\n",
       "    .dataframe tbody tr th:only-of-type {\n",
       "        vertical-align: middle;\n",
       "    }\n",
       "\n",
       "    .dataframe tbody tr th {\n",
       "        vertical-align: top;\n",
       "    }\n",
       "\n",
       "    .dataframe thead th {\n",
       "        text-align: right;\n",
       "    }\n",
       "</style>\n",
       "<table border=\"1\" class=\"dataframe\">\n",
       "  <thead>\n",
       "    <tr style=\"text-align: right;\">\n",
       "      <th></th>\n",
       "      <th>date</th>\n",
       "      <th>home</th>\n",
       "      <th>away</th>\n",
       "      <th>handicap</th>\n",
       "      <th>results</th>\n",
       "      <th>net_goals</th>\n",
       "      <th>y_hat</th>\n",
       "    </tr>\n",
       "  </thead>\n",
       "  <tbody>\n",
       "    <tr>\n",
       "      <th>2423</th>\n",
       "      <td>2022-10-08</td>\n",
       "      <td>Yokohama F-Marinos</td>\n",
       "      <td>Gamba Osaka</td>\n",
       "      <td>-1.5</td>\n",
       "      <td>0</td>\n",
       "      <td>-2</td>\n",
       "      <td>1</td>\n",
       "    </tr>\n",
       "  </tbody>\n",
       "</table>\n",
       "</div>"
      ],
      "text/plain": [
       "           date                home         away  handicap  results  \\\n",
       "2423 2022-10-08  Yokohama F-Marinos  Gamba Osaka      -1.5        0   \n",
       "\n",
       "      net_goals  y_hat  \n",
       "2423         -2      1  "
      ]
     },
     "execution_count": 11,
     "metadata": {},
     "output_type": "execute_result"
    }
   ],
   "source": [
    "df.query(\"date == '20221008' and home == 'Yokohama F-Marinos' and away == 'Gamba Osaka'\")[dc]"
   ]
  }
 ],
 "metadata": {
  "kernelspec": {
   "display_name": "Python 3 (ipykernel)",
   "language": "python",
   "name": "python3"
  },
  "language_info": {
   "codemirror_mode": {
    "name": "ipython",
    "version": 3
   },
   "file_extension": ".py",
   "mimetype": "text/x-python",
   "name": "python",
   "nbconvert_exporter": "python",
   "pygments_lexer": "ipython3",
   "version": "3.8.13"
  }
 },
 "nbformat": 4,
 "nbformat_minor": 5
}
